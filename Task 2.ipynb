{
 "cells": [
  {
   "cell_type": "markdown",
   "id": "identified-cocktail",
   "metadata": {},
   "source": [
    "# Task 2"
   ]
  },
  {
   "cell_type": "code",
   "execution_count": 21,
   "id": "governmental-blast",
   "metadata": {},
   "outputs": [],
   "source": [
    "import tensorflow as tf\n",
    "import os\n",
    "import pathlib\n",
    "import random\n",
    "from shutil import move\n",
    "import zipfile\n",
    "from tensorflow.keras.preprocessing.image import ImageDataGenerator\n",
    "import numpy as np\n",
    "import matplotlib.pyplot as plt\n",
    "from tensorflow import keras\n",
    "from tensorflow.keras import layers\n",
    "from tensorflow.keras import Model\n",
    "import tensorflow_datasets as tfds"
   ]
  },
  {
   "cell_type": "markdown",
   "id": "constitutional-animation",
   "metadata": {},
   "source": [
    "Before running the code below run the to_image.py file using command:\n",
    "\n",
    "`python to_image.py \"mnist-orig\" \"mnist-image\"`"
   ]
  },
  {
   "cell_type": "markdown",
   "id": "computational-eating",
   "metadata": {},
   "source": [
    "To change the sizes of the images I converted the dataset into images and then rconverted the images into (100, 75, 3)"
   ]
  },
  {
   "cell_type": "code",
   "execution_count": 40,
   "id": "catholic-marks",
   "metadata": {},
   "outputs": [],
   "source": [
    "data_dir = pathlib.Path('mnist-image/training')"
   ]
  },
  {
   "cell_type": "code",
   "execution_count": 41,
   "id": "valuable-given",
   "metadata": {},
   "outputs": [],
   "source": [
    "img_height = 100\n",
    "img_width = 75\n",
    "batch_size = 8"
   ]
  },
  {
   "cell_type": "code",
   "execution_count": 53,
   "id": "atomic-mention",
   "metadata": {},
   "outputs": [
    {
     "name": "stdout",
     "output_type": "stream",
     "text": [
      "Found 60000 files belonging to 10 classes.\n",
      "Using 48000 files for training.\n",
      "Found 60000 files belonging to 10 classes.\n",
      "Using 12000 files for validation.\n"
     ]
    }
   ],
   "source": [
    "train_ds = tf.keras.preprocessing.image_dataset_from_directory(\n",
    "  data_dir,\n",
    "  label_mode = \"categorical\",\n",
    "  validation_split=0.2,\n",
    "  subset=\"training\",\n",
    "  seed=123,\n",
    "  image_size=(img_height, img_width),\n",
    "  batch_size=batch_size)\n",
    "\n",
    "val_ds = tf.keras.preprocessing.image_dataset_from_directory(\n",
    "  data_dir,\n",
    "  validation_split=0.2,\n",
    "  label_mode = \"categorical\",\n",
    "  subset=\"validation\",\n",
    "  seed=123,\n",
    "  image_size=(img_height, img_width),\n",
    "  batch_size=batch_size)"
   ]
  },
  {
   "cell_type": "markdown",
   "id": "fuzzy-impossible",
   "metadata": {},
   "source": [
    "### Load our Pretrained Model."
   ]
  },
  {
   "cell_type": "code",
   "execution_count": 54,
   "id": "crucial-copper",
   "metadata": {
    "scrolled": true
   },
   "outputs": [
    {
     "name": "stderr",
     "output_type": "stream",
     "text": [
      "Exception ignored in: <function tqdm.__del__ at 0x7f73a44faee0>\n",
      "Traceback (most recent call last):\n",
      "  File \"/home/sanket/anaconda3/envs/tf/lib/python3.8/site-packages/tqdm/std.py\", line 1145, in __del__\n",
      "    self.close()\n",
      "  File \"/home/sanket/anaconda3/envs/tf/lib/python3.8/site-packages/tqdm/notebook.py\", line 283, in close\n",
      "    self.disp(bar_style='danger', check_delay=False)\n",
      "AttributeError: 'tqdm' object has no attribute 'disp'\n",
      "Exception ignored in: <function tqdm.__del__ at 0x7f73a44faee0>\n",
      "Traceback (most recent call last):\n",
      "  File \"/home/sanket/anaconda3/envs/tf/lib/python3.8/site-packages/tqdm/std.py\", line 1145, in __del__\n",
      "    self.close()\n",
      "  File \"/home/sanket/anaconda3/envs/tf/lib/python3.8/site-packages/tqdm/notebook.py\", line 283, in close\n",
      "    self.disp(bar_style='danger', check_delay=False)\n",
      "AttributeError: 'tqdm' object has no attribute 'disp'\n"
     ]
    }
   ],
   "source": [
    "base_model = keras.models.load_model(\"main_model\")"
   ]
  },
  {
   "cell_type": "markdown",
   "id": "abroad-kingdom",
   "metadata": {},
   "source": [
    "### Get the summary of our model."
   ]
  },
  {
   "cell_type": "code",
   "execution_count": 70,
   "id": "conventional-marshall",
   "metadata": {
    "scrolled": false
   },
   "outputs": [
    {
     "name": "stdout",
     "output_type": "stream",
     "text": [
      "Model: \"sequential_28\"\n",
      "_________________________________________________________________\n",
      "Layer (type)                 Output Shape              Param #   \n",
      "=================================================================\n",
      "random_zoom_4 (RandomZoom)   (None, 100, 75, 3)        0         \n",
      "_________________________________________________________________\n",
      "random_contrast_2 (RandomCon (None, 100, 75, 3)        0         \n",
      "_________________________________________________________________\n",
      "random_rotation_2 (RandomRot (None, 100, 75, 3)        0         \n",
      "_________________________________________________________________\n",
      "random_zoom_5 (RandomZoom)   (None, 100, 75, 3)        0         \n",
      "_________________________________________________________________\n",
      "rescaling_5 (Rescaling)      (None, 100, 75, 3)        0         \n",
      "_________________________________________________________________\n",
      "conv2d_107 (Conv2D)          (None, 98, 73, 32)        896       \n",
      "_________________________________________________________________\n",
      "max_pooling2d_107 (MaxPoolin (None, 49, 36, 32)        0         \n",
      "_________________________________________________________________\n",
      "conv2d_108 (Conv2D)          (None, 47, 34, 32)        9248      \n",
      "_________________________________________________________________\n",
      "max_pooling2d_108 (MaxPoolin (None, 23, 17, 32)        0         \n",
      "_________________________________________________________________\n",
      "conv2d_109 (Conv2D)          (None, 21, 15, 64)        18496     \n",
      "_________________________________________________________________\n",
      "max_pooling2d_109 (MaxPoolin (None, 10, 7, 64)         0         \n",
      "_________________________________________________________________\n",
      "flatten_28 (Flatten)         (None, 4480)              0         \n",
      "_________________________________________________________________\n",
      "dense_56 (Dense)             (None, 128)               573568    \n",
      "_________________________________________________________________\n",
      "dropout_25 (Dropout)         (None, 128)               0         \n",
      "_________________________________________________________________\n",
      "dense_57 (Dense)             (None, 62)                7998      \n",
      "=================================================================\n",
      "Total params: 610,206\n",
      "Trainable params: 0\n",
      "Non-trainable params: 610,206\n",
      "_________________________________________________________________\n"
     ]
    }
   ],
   "source": [
    "base_model.summary()"
   ]
  },
  {
   "cell_type": "markdown",
   "id": "welsh-letter",
   "metadata": {},
   "source": [
    "### Load our model and customise it to only predict 10 classes."
   ]
  },
  {
   "cell_type": "code",
   "execution_count": 55,
   "id": "medieval-athletics",
   "metadata": {},
   "outputs": [],
   "source": [
    "for layer in base_model.layers:\n",
    "    layer.trainable=False\n",
    "last_layer = base_model.get_layer('max_pooling2d_109')\n",
    "last_output = last_layer.output\n",
    "x = layers.Flatten()(last_output)\n",
    "x = layers.Dense(64, activation='relu')(x)\n",
    "x = layers.Dropout(0.4)(x)\n",
    "x = layers.Dense(10, activation='softmax')(x)\n",
    "\n",
    "model = Model(base_model.input, x)\n",
    "model.compile(optimizer='adam', loss='categorical_crossentropy', metrics=['accuracy'])"
   ]
  },
  {
   "cell_type": "code",
   "execution_count": 56,
   "id": "comfortable-coaching",
   "metadata": {
    "scrolled": false
   },
   "outputs": [
    {
     "name": "stdout",
     "output_type": "stream",
     "text": [
      "Epoch 1/15\n",
      "6000/6000 [==============================] - 60s 10ms/step - loss: 0.4618 - accuracy: 0.8611 - val_loss: 0.0771 - val_accuracy: 0.9775\n",
      "Epoch 2/15\n",
      "6000/6000 [==============================] - 59s 10ms/step - loss: 0.1693 - accuracy: 0.9481 - val_loss: 0.0678 - val_accuracy: 0.9801\n",
      "Epoch 3/15\n",
      "6000/6000 [==============================] - 59s 10ms/step - loss: 0.1495 - accuracy: 0.9563 - val_loss: 0.0626 - val_accuracy: 0.9827\n",
      "Epoch 4/15\n",
      "6000/6000 [==============================] - 59s 10ms/step - loss: 0.1419 - accuracy: 0.9590 - val_loss: 0.0630 - val_accuracy: 0.9818\n",
      "Epoch 5/15\n",
      "6000/6000 [==============================] - 61s 10ms/step - loss: 0.1342 - accuracy: 0.9615 - val_loss: 0.0615 - val_accuracy: 0.9832\n",
      "Epoch 6/15\n",
      "6000/6000 [==============================] - 60s 10ms/step - loss: 0.1269 - accuracy: 0.9635 - val_loss: 0.0606 - val_accuracy: 0.9833\n",
      "Epoch 7/15\n",
      "6000/6000 [==============================] - 59s 10ms/step - loss: 0.1205 - accuracy: 0.9657 - val_loss: 0.0607 - val_accuracy: 0.9848\n",
      "Epoch 8/15\n",
      "6000/6000 [==============================] - 61s 10ms/step - loss: 0.1243 - accuracy: 0.9654 - val_loss: 0.0592 - val_accuracy: 0.9841\n",
      "Epoch 9/15\n",
      "6000/6000 [==============================] - 60s 10ms/step - loss: 0.1206 - accuracy: 0.9660 - val_loss: 0.0514 - val_accuracy: 0.9864\n",
      "Epoch 10/15\n",
      "6000/6000 [==============================] - 61s 10ms/step - loss: 0.1202 - accuracy: 0.9660 - val_loss: 0.0510 - val_accuracy: 0.9852\n",
      "Epoch 11/15\n",
      "6000/6000 [==============================] - 62s 10ms/step - loss: 0.1145 - accuracy: 0.9682 - val_loss: 0.0600 - val_accuracy: 0.9843\n",
      "Epoch 12/15\n",
      "6000/6000 [==============================] - 64s 11ms/step - loss: 0.1115 - accuracy: 0.9695 - val_loss: 0.0634 - val_accuracy: 0.9842\n",
      "Epoch 13/15\n",
      "6000/6000 [==============================] - 62s 10ms/step - loss: 0.1169 - accuracy: 0.9671 - val_loss: 0.0567 - val_accuracy: 0.9873\n",
      "Epoch 14/15\n",
      "6000/6000 [==============================] - 61s 10ms/step - loss: 0.1078 - accuracy: 0.9703 - val_loss: 0.0614 - val_accuracy: 0.9853\n",
      "Epoch 15/15\n",
      "6000/6000 [==============================] - 60s 10ms/step - loss: 0.1081 - accuracy: 0.9692 - val_loss: 0.0540 - val_accuracy: 0.9858\n"
     ]
    }
   ],
   "source": [
    "history = model.fit(\n",
    "          train_ds,\n",
    "          validation_data=val_ds, \n",
    "          epochs=15,\n",
    "        )"
   ]
  },
  {
   "cell_type": "code",
   "execution_count": 57,
   "id": "confidential-chosen",
   "metadata": {},
   "outputs": [
    {
     "data": {
      "image/png": "[encoded data removed]",
      "text/plain": [
       "<Figure size 720x360 with 2 Axes>"
      ]
     },
     "metadata": {
      "needs_background": "light"
     },
     "output_type": "display_data"
    }
   ],
   "source": [
    "acc = history.history['accuracy']\n",
    "val_acc = history.history['val_accuracy']\n",
    "\n",
    "loss = history.history['loss']\n",
    "val_loss = history.history['val_loss']\n",
    "\n",
    "epochs_range = range(len(acc))\n",
    "\n",
    "plt.figure(figsize=(10, 5))\n",
    "plt.subplot(1, 2, 1)\n",
    "plt.plot(epochs_range, acc, label='Training Accuracy')\n",
    "plt.plot(epochs_range, val_acc, label='Validation Accuracy')\n",
    "plt.legend(loc='lower right')\n",
    "plt.title('Training and Validation Accuracy')\n",
    "\n",
    "plt.subplot(1, 2, 2)\n",
    "plt.plot(epochs_range, loss, label='Training Loss')\n",
    "plt.plot(epochs_range, val_loss, label='Validation Loss')\n",
    "plt.legend(loc='upper right')\n",
    "plt.title('Training and Validation Loss')\n",
    "plt.show()"
   ]
  },
  {
   "cell_type": "markdown",
   "id": "weird-ukraine",
   "metadata": {},
   "source": [
    "### We get Training accuracy - 0.9692 and Validation accuracy: 0.9858 on our pretrained model."
   ]
  },
  {
   "cell_type": "code",
   "execution_count": 62,
   "id": "square-terminology",
   "metadata": {},
   "outputs": [
    {
     "name": "stdout",
     "output_type": "stream",
     "text": [
      "Found 10000 files belonging to 10 classes.\n"
     ]
    }
   ],
   "source": [
    "data_dir = pathlib.Path('mnist-image/testing')\n",
    "test_ds = tf.keras.preprocessing.image_dataset_from_directory(\n",
    "  data_dir,\n",
    "  seed=123,\n",
    "  image_size=(img_height, img_width),\n",
    "  batch_size=batch_size)"
   ]
  },
  {
   "cell_type": "code",
   "execution_count": 66,
   "id": "confused-karma",
   "metadata": {
    "scrolled": false
   },
   "outputs": [
    {
     "name": "stdout",
     "output_type": "stream",
     "text": [
      "Found 60000 images belonging to 10 classes.\n",
      "Found 10000 images belonging to 10 classes.\n",
      "Epoch 1/15\n",
      "7500/7500 [==============================] - 168s 22ms/step - loss: 0.2261 - accuracy: 0.9275 - val_loss: 0.0535 - val_accuracy: 0.9839\n",
      "Epoch 2/15\n",
      "7500/7500 [==============================] - 169s 23ms/step - loss: 0.0521 - accuracy: 0.9848 - val_loss: 0.0496 - val_accuracy: 0.9868\n",
      "Epoch 3/15\n",
      "7500/7500 [==============================] - 163s 22ms/step - loss: 0.0355 - accuracy: 0.9897 - val_loss: 0.0354 - val_accuracy: 0.9898\n",
      "Epoch 4/15\n",
      "7500/7500 [==============================] - 163s 22ms/step - loss: 0.0292 - accuracy: 0.9908 - val_loss: 0.0322 - val_accuracy: 0.9901\n",
      "Epoch 5/15\n",
      "7500/7500 [==============================] - 163s 22ms/step - loss: 0.0243 - accuracy: 0.9926 - val_loss: 0.0563 - val_accuracy: 0.9869\n",
      "Epoch 6/15\n",
      "7500/7500 [==============================] - 163s 22ms/step - loss: 0.0209 - accuracy: 0.9937 - val_loss: 0.0420 - val_accuracy: 0.9891\n",
      "Epoch 7/15\n",
      "7500/7500 [==============================] - 164s 22ms/step - loss: 0.0200 - accuracy: 0.9940 - val_loss: 0.0456 - val_accuracy: 0.9880\n",
      "Epoch 8/15\n",
      "7500/7500 [==============================] - 165s 22ms/step - loss: 0.0167 - accuracy: 0.9949 - val_loss: 0.0442 - val_accuracy: 0.9907\n",
      "Epoch 9/15\n",
      "7500/7500 [==============================] - 172s 23ms/step - loss: 0.0169 - accuracy: 0.9953 - val_loss: 0.0422 - val_accuracy: 0.9919\n",
      "Epoch 10/15\n",
      "7500/7500 [==============================] - 168s 22ms/step - loss: 0.0162 - accuracy: 0.9955 - val_loss: 0.0562 - val_accuracy: 0.9894\n",
      "Epoch 11/15\n",
      "7500/7500 [==============================] - 171s 23ms/step - loss: 0.0167 - accuracy: 0.9954 - val_loss: 0.0444 - val_accuracy: 0.9914\n",
      "Epoch 12/15\n",
      "7500/7500 [==============================] - 174s 23ms/step - loss: 0.0185 - accuracy: 0.9955 - val_loss: 0.0816 - val_accuracy: 0.9897\n",
      "Epoch 13/15\n",
      "7500/7500 [==============================] - 181s 24ms/step - loss: 0.0151 - accuracy: 0.9963 - val_loss: 0.1623 - val_accuracy: 0.9879\n",
      "Epoch 14/15\n",
      "7500/7500 [==============================] - 180s 24ms/step - loss: 0.0245 - accuracy: 0.9953 - val_loss: 0.0594 - val_accuracy: 0.9887\n",
      "Epoch 15/15\n",
      "7500/7500 [==============================] - 181s 24ms/step - loss: 0.0157 - accuracy: 0.9961 - val_loss: 0.0556 - val_accuracy: 0.9876\n"
     ]
    }
   ],
   "source": [
    "model2 = tf.keras.models.Sequential([\n",
    "    tf.keras.layers.Conv2D(32, (3,3), activation='relu', input_shape=(img_height, img_width, 3)),\n",
    "    tf.keras.layers.MaxPooling2D(2, 2),\n",
    "    tf.keras.layers.Conv2D(64, (3,3), activation='relu'),\n",
    "    tf.keras.layers.MaxPooling2D(2,2),\n",
    "    tf.keras.layers.Conv2D(128, (3,3), activation='relu'),\n",
    "    tf.keras.layers.MaxPooling2D(2,2),\n",
    "    tf.keras.layers.Conv2D(128, (3,3), activation='relu'),\n",
    "    tf.keras.layers.MaxPooling2D(2,2),\n",
    "    tf.keras.layers.Flatten(),\n",
    "    tf.keras.layers.Dense(512, activation='relu'),\n",
    "    tf.keras.layers.Dense(10, activation='softmax')\n",
    "])\n",
    "\n",
    "model2.compile(loss='categorical_crossentropy',\n",
    "              optimizer='adam',\n",
    "              metrics=['accuracy'])\n",
    "\n",
    "train_datagen = ImageDataGenerator(rescale=1./255)\n",
    "test_datagen = ImageDataGenerator(rescale=1./255)\n",
    "\n",
    "train_generator = train_datagen.flow_from_directory(\n",
    "        train_dir,  \n",
    "        target_size=(img_height, img_width), \n",
    "        batch_size=batch_size,\n",
    "        class_mode='categorical')\n",
    "\n",
    "validation_generator = test_datagen.flow_from_directory(\n",
    "        validation_dir,\n",
    "        target_size=(img_height, img_width),\n",
    "        batch_size=batch_size,\n",
    "        class_mode='categorical')\n",
    "\n",
    "history = model2.fit(\n",
    "      train_generator,\n",
    "      epochs=15,\n",
    "      validation_data=validation_generator,\n",
    "    )"
   ]
  },
  {
   "cell_type": "code",
   "execution_count": 67,
   "id": "continental-commercial",
   "metadata": {
    "scrolled": true
   },
   "outputs": [
    {
     "data": {
      "image/png": "[encoded data removed]",
      "text/plain": [
       "<Figure size 720x360 with 2 Axes>"
      ]
     },
     "metadata": {
      "needs_background": "light"
     },
     "output_type": "display_data"
    }
   ],
   "source": [
    "acc = history.history['accuracy']\n",
    "val_acc = history.history['val_accuracy']\n",
    "\n",
    "loss = history.history['loss']\n",
    "val_loss = history.history['val_loss']\n",
    "\n",
    "epochs_range = range(len(acc))\n",
    "\n",
    "plt.figure(figsize=(10, 5))\n",
    "plt.subplot(1, 2, 1)\n",
    "plt.plot(epochs_range, acc, label='Training Accuracy')\n",
    "plt.plot(epochs_range, val_acc, label='Validation Accuracy')\n",
    "plt.legend(loc='lower right')\n",
    "plt.title('Training and Validation Accuracy')\n",
    "\n",
    "plt.subplot(1, 2, 2)\n",
    "plt.plot(epochs_range, loss, label='Training Loss')\n",
    "plt.plot(epochs_range, val_loss, label='Validation Loss')\n",
    "plt.legend(loc='upper right')\n",
    "plt.title('Training and Validation Loss')\n",
    "plt.show()"
   ]
  },
  {
   "cell_type": "markdown",
   "id": "touched-power",
   "metadata": {},
   "source": [
    "### We get Training accuracy - 0.9961 and Validation accuracy: 0.9876 if we build our model from scratch.\n",
    "Let's save this model to label the images in the Task 3."
   ]
  },
  {
   "cell_type": "code",
   "execution_count": 68,
   "id": "psychological-teens",
   "metadata": {
    "scrolled": true
   },
   "outputs": [
    {
     "name": "stdout",
     "output_type": "stream",
     "text": [
      "INFO:tensorflow:Assets written to: Task_2_Random_Initialization_Model/assets\n"
     ]
    },
    {
     "name": "stderr",
     "output_type": "stream",
     "text": [
      "INFO:tensorflow:Assets written to: Task_2_Random_Initialization_Model/assets\n"
     ]
    }
   ],
   "source": [
    "model2.save(\"Task_2_Random_Initialization_Model\")"
   ]
  }
 ],
 "metadata": {
  "kernelspec": {
   "display_name": "Python [conda env:tf]",
   "language": "python",
   "name": "conda-env-tf-py"
  },
  "language_info": {
   "codemirror_mode": {
    "name": "ipython",
    "version": 3
   },
   "file_extension": ".py",
   "mimetype": "text/x-python",
   "name": "python",
   "nbconvert_exporter": "python",
   "pygments_lexer": "ipython3",
   "version": "3.8.3"
  }
 },
 "nbformat": 4,
 "nbformat_minor": 5
}
