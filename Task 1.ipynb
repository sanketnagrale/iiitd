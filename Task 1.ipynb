{
 "cells": [
  {
   "cell_type": "markdown",
   "id": "noted-malta",
   "metadata": {},
   "source": [
    "# Task 1"
   ]
  },
  {
   "cell_type": "markdown",
   "id": "alternate-controversy",
   "metadata": {},
   "source": [
    "Use this dataset (https://www.dropbox.com/s/pan6mutc5xj5kj0/trainPart1.zip) to train a CNN. Use no other data source or pretrained networks, and explain your design choices during preprocessing, model building and training. Also, cite the sources you used to borrow techniques. A test set will be provided later to judge the performance of your classifier. Please save your model checkpoints."
   ]
  },
  {
   "cell_type": "markdown",
   "id": "western-geography",
   "metadata": {},
   "source": [
    "Let's start by importing all the important libraries."
   ]
  },
  {
   "cell_type": "code",
   "execution_count": 247,
   "id": "flexible-cream",
   "metadata": {},
   "outputs": [],
   "source": [
    "import tensorflow as tf\n",
    "import os\n",
    "import pathlib\n",
    "import random\n",
    "from shutil import move\n",
    "import zipfile\n",
    "from tensorflow.keras.preprocessing.image import ImageDataGenerator\n",
    "import numpy as np\n",
    "import matplotlib.pyplot as plt\n",
    "from tensorflow import keras"
   ]
  },
  {
   "cell_type": "markdown",
   "id": "dirty-effort",
   "metadata": {},
   "source": [
    "## Unzip the trainPart1.zip file"
   ]
  },
  {
   "cell_type": "code",
   "execution_count": 121,
   "id": "sixth-johnson",
   "metadata": {},
   "outputs": [],
   "source": [
    "with zipfile.ZipFile(\"trainPart1.zip\", 'r') as zip_ref:\n",
    "    zip_ref.extractall(\"trainPart1/\")"
   ]
  },
  {
   "cell_type": "markdown",
   "id": "determined-commerce",
   "metadata": {},
   "source": [
    "#### Changing the directories to labels.\n",
    "All the directories in this dataset are named from sample 001 to sample 062. We change the names of the directories to the label of the images that they contain."
   ]
  },
  {
   "cell_type": "code",
   "execution_count": 122,
   "id": "pressing-sharp",
   "metadata": {},
   "outputs": [],
   "source": [
    "root = \"trainPart1/train\""
   ]
  },
  {
   "cell_type": "code",
   "execution_count": 123,
   "id": "double-information",
   "metadata": {},
   "outputs": [],
   "source": [
    "s = os.listdir(root)\n",
    "s.sort()"
   ]
  },
  {
   "cell_type": "markdown",
   "id": "athletic-surfing",
   "metadata": {},
   "source": [
    "#### The code below changes the names of the directories sample 001 to sample 010 to 0 to 9."
   ]
  },
  {
   "cell_type": "code",
   "execution_count": 124,
   "id": "demonstrated-silicon",
   "metadata": {},
   "outputs": [],
   "source": [
    "i = 0\n",
    "for file in s:\n",
    "    source = os.path.join(root, file)\n",
    "    dest = os.path.join(root, str(i))\n",
    "    os.rename(source, dest)\n",
    "    i = i+1\n",
    "    if (i>9):\n",
    "        break"
   ]
  },
  {
   "cell_type": "markdown",
   "id": "residential-statement",
   "metadata": {},
   "source": [
    "#### The directories after renaming first 10."
   ]
  },
  {
   "cell_type": "code",
   "execution_count": 125,
   "id": "editorial-minister",
   "metadata": {},
   "outputs": [
    {
     "name": "stdout",
     "output_type": "stream",
     "text": [
      "['0', '1', '2', '3', '4', '5', '6', '7', '8', '9', 'Sample011', 'Sample012', 'Sample013', 'Sample014', 'Sample015', 'Sample016', 'Sample017', 'Sample018', 'Sample019', 'Sample020', 'Sample021', 'Sample022', 'Sample023', 'Sample024', 'Sample025', 'Sample026', 'Sample027', 'Sample028', 'Sample029', 'Sample030', 'Sample031', 'Sample032', 'Sample033', 'Sample034', 'Sample035', 'Sample036', 'Sample037', 'Sample038', 'Sample039', 'Sample040', 'Sample041', 'Sample042', 'Sample043', 'Sample044', 'Sample045', 'Sample046', 'Sample047', 'Sample048', 'Sample049', 'Sample050', 'Sample051', 'Sample052', 'Sample053', 'Sample054', 'Sample055', 'Sample056', 'Sample057', 'Sample058', 'Sample059', 'Sample060', 'Sample061', 'Sample062']\n"
     ]
    }
   ],
   "source": [
    "s = os.listdir(root)\n",
    "s.sort()\n",
    "print(s)"
   ]
  },
  {
   "cell_type": "markdown",
   "id": "tired-politics",
   "metadata": {},
   "source": [
    "#### Now changing the names of the directories of Capital Letters."
   ]
  },
  {
   "cell_type": "code",
   "execution_count": 126,
   "id": "durable-malaysia",
   "metadata": {},
   "outputs": [],
   "source": [
    "s = os.listdir(root)\n",
    "s.sort()\n",
    "for i in range(26):\n",
    "    j = 'A'\n",
    "    j = chr(ord(j)+i)\n",
    "    source = os.path.join(root, s[i+10])\n",
    "    destination = os.path.join(root, j)\n",
    "    os.rename(source, destination)\n",
    "    j = chr(ord(j)+1)"
   ]
  },
  {
   "cell_type": "code",
   "execution_count": 127,
   "id": "fitting-youth",
   "metadata": {},
   "outputs": [
    {
     "name": "stdout",
     "output_type": "stream",
     "text": [
      "['0', '1', '2', '3', '4', '5', '6', '7', '8', '9', 'A', 'B', 'C', 'D', 'E', 'F', 'G', 'H', 'I', 'J', 'K', 'L', 'M', 'N', 'O', 'P', 'Q', 'R', 'S', 'Sample037', 'Sample038', 'Sample039', 'Sample040', 'Sample041', 'Sample042', 'Sample043', 'Sample044', 'Sample045', 'Sample046', 'Sample047', 'Sample048', 'Sample049', 'Sample050', 'Sample051', 'Sample052', 'Sample053', 'Sample054', 'Sample055', 'Sample056', 'Sample057', 'Sample058', 'Sample059', 'Sample060', 'Sample061', 'Sample062', 'T', 'U', 'V', 'W', 'X', 'Y', 'Z']\n"
     ]
    }
   ],
   "source": [
    "s = os.listdir(root)\n",
    "s.sort()\n",
    "print(s)"
   ]
  },
  {
   "cell_type": "markdown",
   "id": "attractive-filename",
   "metadata": {},
   "source": [
    "#### Now changing the names of the directories of Capital Letters."
   ]
  },
  {
   "cell_type": "code",
   "execution_count": 128,
   "id": "declared-underground",
   "metadata": {},
   "outputs": [],
   "source": [
    "for i in range(26):\n",
    "    j = 'a'\n",
    "    j = chr(ord(j)+i)\n",
    "    source = os.path.join(root, s[i+29])\n",
    "    destination = os.path.join(root, j)\n",
    "    os.rename(source, destination)\n",
    "    j = chr(ord(j)+1)"
   ]
  },
  {
   "cell_type": "markdown",
   "id": "south-subcommittee",
   "metadata": {},
   "source": [
    "### Final names of the directories:"
   ]
  },
  {
   "cell_type": "code",
   "execution_count": 382,
   "id": "economic-talent",
   "metadata": {},
   "outputs": [
    {
     "name": "stdout",
     "output_type": "stream",
     "text": [
      "['0', '1', '2', '3', '4', '5', '6', '7', '8', '9', 'A', 'B', 'C', 'D', 'E', 'F', 'G', 'H', 'I', 'J', 'K', 'L', 'M', 'N', 'O', 'P', 'Q', 'R', 'S', 'T', 'U', 'V', 'W', 'X', 'Y', 'Z', 'a', 'b', 'c', 'd', 'e', 'f', 'g', 'h', 'i', 'j', 'k', 'l', 'm', 'n', 'o', 'p', 'q', 'r', 's', 't', 'u', 'v', 'w', 'x', 'y', 'z']\n"
     ]
    }
   ],
   "source": [
    "s = os.listdir(root)\n",
    "s.sort()\n",
    "print(s)"
   ]
  },
  {
   "cell_type": "code",
   "execution_count": 383,
   "id": "blank-revolution",
   "metadata": {},
   "outputs": [
    {
     "name": "stdout",
     "output_type": "stream",
     "text": [
      "Total Images present are: 2480\n"
     ]
    }
   ],
   "source": [
    "data_dir = pathlib.Path('trainPart1')\n",
    "img_count = len(list(data_dir.glob('*/*/*.png')))\n",
    "print(\"Total Images present are:\", img_count)"
   ]
  },
  {
   "cell_type": "markdown",
   "id": "random-fellow",
   "metadata": {},
   "source": [
    "#### Getting the names of the classes."
   ]
  },
  {
   "cell_type": "code",
   "execution_count": 384,
   "id": "equivalent-excitement",
   "metadata": {
    "scrolled": true
   },
   "outputs": [
    {
     "name": "stdout",
     "output_type": "stream",
     "text": [
      "['0' '1' '2' '3' '4' '5' '6' '7' '8' '9' 'A' 'B' 'C' 'D' 'E' 'F' 'G' 'H'\n",
      " 'I' 'J' 'K' 'L' 'M' 'N' 'O' 'P' 'Q' 'R' 'S' 'T' 'U' 'V' 'W' 'X' 'Y' 'Z'\n",
      " 'a' 'b' 'c' 'd' 'e' 'f' 'g' 'h' 'i' 'j' 'k' 'l' 'm' 'n' 'o' 'p' 'q' 'r'\n",
      " 's' 't' 'u' 'v' 'w' 'x' 'y' 'z']\n"
     ]
    }
   ],
   "source": [
    "class_names = np.array(sorted([item.name for item in data_dir.glob('train/*')]))\n",
    "print(class_names)"
   ]
  },
  {
   "cell_type": "code",
   "execution_count": 385,
   "id": "innocent-therapist",
   "metadata": {},
   "outputs": [],
   "source": [
    "batch_size = 8\n",
    "img_height = 100\n",
    "img_width = 75"
   ]
  },
  {
   "cell_type": "markdown",
   "id": "computational-manual",
   "metadata": {},
   "source": [
    "## Creating Train and Test Directories"
   ]
  },
  {
   "cell_type": "code",
   "execution_count": 404,
   "id": "educational-pastor",
   "metadata": {},
   "outputs": [
    {
     "name": "stdout",
     "output_type": "stream",
     "text": [
      "Found 2480 files belonging to 62 classes.\n",
      "Using 1984 files for training.\n",
      "Found 2480 files belonging to 62 classes.\n",
      "Using 496 files for validation.\n"
     ]
    }
   ],
   "source": [
    "data_dir = pathlib.Path('trainPart1/train')\n",
    "train_ds = tf.keras.preprocessing.image_dataset_from_directory(\n",
    "  data_dir,\n",
    "  validation_split=0.2,\n",
    "  subset=\"training\",\n",
    "  seed=123,\n",
    "  image_size=(img_height, img_width),\n",
    "  batch_size=batch_size)\n",
    "\n",
    "val_ds = tf.keras.preprocessing.image_dataset_from_directory(\n",
    "  data_dir,\n",
    "  validation_split=0.2,\n",
    "  subset=\"validation\",\n",
    "  seed=123,\n",
    "  image_size=(img_height, img_width),\n",
    "  batch_size=batch_size)"
   ]
  },
  {
   "cell_type": "code",
   "execution_count": 405,
   "id": "global-lightweight",
   "metadata": {},
   "outputs": [
    {
     "data": {
      "image/png": "[encoded data removed]",
      "text/plain": [
       "<Figure size 720x720 with 8 Axes>"
      ]
     },
     "metadata": {
      "needs_background": "light"
     },
     "output_type": "display_data"
    }
   ],
   "source": [
    "import matplotlib.pyplot as plt\n",
    "\n",
    "plt.figure(figsize=(10, 10))\n",
    "for images, labels in train_ds.take(1):\n",
    "    for i in range(8):\n",
    "        ax = plt.subplot(3, 3, i + 1)\n",
    "        plt.imshow(images[i].numpy().astype(\"uint8\"))\n",
    "        plt.title(class_names[labels[i]])\n",
    "        plt.axis(\"off\")"
   ]
  },
  {
   "cell_type": "code",
   "execution_count": 402,
   "id": "blocked-calculator",
   "metadata": {
    "scrolled": true
   },
   "outputs": [
    {
     "name": "stdout",
     "output_type": "stream",
     "text": [
      "Epoch 1/15\n",
      "248/248 [==============================] - 7s 26ms/step - loss: 4.0089 - accuracy: 0.0507 - val_loss: 2.9625 - val_accuracy: 0.2500\n",
      "Epoch 2/15\n",
      "248/248 [==============================] - 6s 25ms/step - loss: 2.2944 - accuracy: 0.4166 - val_loss: 2.0843 - val_accuracy: 0.4496\n",
      "Epoch 3/15\n",
      "248/248 [==============================] - 6s 25ms/step - loss: 1.1730 - accuracy: 0.6739 - val_loss: 1.8172 - val_accuracy: 0.5665\n",
      "Epoch 4/15\n",
      "248/248 [==============================] - 6s 25ms/step - loss: 0.6374 - accuracy: 0.8151 - val_loss: 2.0062 - val_accuracy: 0.5786\n",
      "Epoch 5/15\n",
      "248/248 [==============================] - 7s 26ms/step - loss: 0.3368 - accuracy: 0.9047 - val_loss: 2.1291 - val_accuracy: 0.5786\n",
      "Epoch 6/15\n",
      "248/248 [==============================] - 7s 26ms/step - loss: 0.2022 - accuracy: 0.9336 - val_loss: 2.4326 - val_accuracy: 0.5403\n",
      "Epoch 7/15\n",
      "248/248 [==============================] - 7s 26ms/step - loss: 0.1914 - accuracy: 0.9464 - val_loss: 2.5309 - val_accuracy: 0.5867\n",
      "Epoch 8/15\n",
      "248/248 [==============================] - 7s 27ms/step - loss: 0.1067 - accuracy: 0.9687 - val_loss: 2.5123 - val_accuracy: 0.5867\n",
      "Epoch 9/15\n",
      "248/248 [==============================] - 7s 27ms/step - loss: 0.1594 - accuracy: 0.9741 - val_loss: 2.5280 - val_accuracy: 0.6008\n",
      "Epoch 10/15\n",
      "248/248 [==============================] - 7s 26ms/step - loss: 0.0463 - accuracy: 0.9894 - val_loss: 2.6024 - val_accuracy: 0.5927\n",
      "Epoch 11/15\n",
      "248/248 [==============================] - 7s 28ms/step - loss: 0.0557 - accuracy: 0.9795 - val_loss: 2.8937 - val_accuracy: 0.5746\n",
      "Epoch 12/15\n",
      "248/248 [==============================] - 7s 27ms/step - loss: 0.0834 - accuracy: 0.9765 - val_loss: 2.7707 - val_accuracy: 0.5907\n",
      "Epoch 13/15\n",
      "248/248 [==============================] - 7s 27ms/step - loss: 0.1124 - accuracy: 0.9684 - val_loss: 2.6093 - val_accuracy: 0.6169\n",
      "Epoch 14/15\n",
      "248/248 [==============================] - 7s 27ms/step - loss: 0.0403 - accuracy: 0.9941 - val_loss: 2.5711 - val_accuracy: 0.6512\n",
      "Epoch 15/15\n",
      "248/248 [==============================] - 7s 27ms/step - loss: 0.0548 - accuracy: 0.9875 - val_loss: 2.5486 - val_accuracy: 0.6129\n"
     ]
    }
   ],
   "source": [
    "num_classes = 62\n",
    "import tensorflow.keras.layers as layers\n",
    "model = tf.keras.Sequential([\n",
    "  layers.experimental.preprocessing.Rescaling(1./255),\n",
    "  layers.Conv2D(32, 3, activation='relu'),\n",
    "  layers.MaxPooling2D(),\n",
    "  layers.Conv2D(32, 3, activation='relu'),\n",
    "  layers.MaxPooling2D(),\n",
    "  layers.Conv2D(32, 3, activation='relu'),\n",
    "  layers.MaxPooling2D(),\n",
    "  layers.Flatten(),\n",
    "  layers.Dense(128, activation='relu'),\n",
    "  layers.Dense(num_classes)\n",
    "])\n",
    "\n",
    "model.compile(\n",
    "  optimizer='adam',\n",
    "  loss=tf.losses.SparseCategoricalCrossentropy(from_logits=True),\n",
    "  metrics=['accuracy'])\n",
    "\n",
    "history = model.fit(\n",
    "  train_ds,\n",
    "  validation_data=val_ds,\n",
    "  epochs=15\n",
    ")"
   ]
  },
  {
   "cell_type": "code",
   "execution_count": 407,
   "id": "bizarre-princess",
   "metadata": {
    "scrolled": true
   },
   "outputs": [
    {
     "data": {
      "image/png": "[encoded data removed]",
      "text/plain": [
       "<Figure size 720x360 with 2 Axes>"
      ]
     },
     "metadata": {
      "needs_background": "light"
     },
     "output_type": "display_data"
    }
   ],
   "source": [
    "acc = history.history['accuracy']\n",
    "val_acc = history.history['val_accuracy']\n",
    "\n",
    "loss = history.history['loss']\n",
    "val_loss = history.history['val_loss']\n",
    "\n",
    "epochs_range = range(len(acc))\n",
    "\n",
    "plt.figure(figsize=(10, 5))\n",
    "plt.subplot(1, 2, 1)\n",
    "plt.plot(epochs_range, acc, label='Training Accuracy')\n",
    "plt.plot(epochs_range, val_acc, label='Validation Accuracy')\n",
    "plt.legend(loc='lower right')\n",
    "plt.title('Training and Validation Accuracy')\n",
    "\n",
    "plt.subplot(1, 2, 2)\n",
    "plt.plot(epochs_range, loss, label='Training Loss')\n",
    "plt.plot(epochs_range, val_loss, label='Validation Loss')\n",
    "plt.legend(loc='upper right')\n",
    "plt.title('Training and Validation Loss')\n",
    "plt.show()"
   ]
  },
  {
   "cell_type": "markdown",
   "id": "discrete-acceptance",
   "metadata": {},
   "source": [
    "the large gap between training and validation accuracy tells that the model is overfitting. Training accuracy is 98% while validation accuracy is just 61%.\n",
    "\n",
    "To correct overfitting, we add some Augmentation and Dropout Regualarization."
   ]
  },
  {
   "cell_type": "markdown",
   "id": "experienced-steal",
   "metadata": {},
   "source": [
    "# Adding Dropout and Augmentation"
   ]
  },
  {
   "cell_type": "code",
   "execution_count": 238,
   "id": "extended-reynolds",
   "metadata": {},
   "outputs": [],
   "source": [
    "model2 = tf.keras.Sequential([\n",
    "  layers.experimental.preprocessing.RandomZoom(0.2),\n",
    "  layers.experimental.preprocessing.RandomContrast(0.2), \n",
    "  layers.experimental.preprocessing.RandomRotation(0.1),\n",
    "  layers.experimental.preprocessing.RandomZoom(0.1),\n",
    "  layers.experimental.preprocessing.Rescaling(1./255,input_shape=(img_height, img_width, 3)),\n",
    "  layers.Conv2D(32, 3, activation='relu'),\n",
    "  layers.MaxPooling2D(2, 2),\n",
    "  layers.Conv2D(32, 3, activation='relu'),\n",
    "  layers.MaxPooling2D(2, 2),\n",
    "  layers.Conv2D(64, 3, activation='relu'),\n",
    "  layers.MaxPooling2D(2, 2),\n",
    "  layers.Flatten(),\n",
    "  layers.Dense(128, activation='relu'),\n",
    "  layers.Dropout(0.4),\n",
    "  layers.Dense(num_classes, activation='softmax')\n",
    "])\n"
   ]
  },
  {
   "cell_type": "code",
   "execution_count": 239,
   "id": "brief-bikini",
   "metadata": {},
   "outputs": [],
   "source": [
    "model2.compile(optimizer='adam',\n",
    "              loss=tf.keras.losses.SparseCategoricalCrossentropy(),\n",
    "              metrics=['accuracy'])\n"
   ]
  },
  {
   "cell_type": "markdown",
   "id": "fifty-optimization",
   "metadata": {},
   "source": [
    "#### The training part below was done using 0.4 as validation split. For the original 0.2 validation split refer to the training part below this code."
   ]
  },
  {
   "cell_type": "code",
   "execution_count": 240,
   "id": "purple-casting",
   "metadata": {},
   "outputs": [
    {
     "name": "stdout",
     "output_type": "stream",
     "text": [
      "Epoch 1/30\n",
      "186/186 [==============================] - 7s 32ms/step - loss: 4.1338 - accuracy: 0.0231 - val_loss: 4.1191 - val_accuracy: 0.0272\n",
      "Epoch 2/30\n",
      "186/186 [==============================] - 6s 31ms/step - loss: 4.0968 - accuracy: 0.0361 - val_loss: 3.8764 - val_accuracy: 0.0585\n",
      "Epoch 3/30\n",
      "186/186 [==============================] - 6s 31ms/step - loss: 3.8273 - accuracy: 0.0806 - val_loss: 3.1266 - val_accuracy: 0.1915\n",
      "Epoch 4/30\n",
      "186/186 [==============================] - 6s 31ms/step - loss: 3.3288 - accuracy: 0.1479 - val_loss: 2.6400 - val_accuracy: 0.2873\n",
      "Epoch 5/30\n",
      "186/186 [==============================] - 6s 31ms/step - loss: 2.8750 - accuracy: 0.2432 - val_loss: 2.3591 - val_accuracy: 0.3589\n",
      "Epoch 6/30\n",
      "186/186 [==============================] - 6s 31ms/step - loss: 2.6738 - accuracy: 0.2750 - val_loss: 2.0533 - val_accuracy: 0.4173\n",
      "Epoch 7/30\n",
      "186/186 [==============================] - 6s 31ms/step - loss: 2.4058 - accuracy: 0.3381 - val_loss: 1.8763 - val_accuracy: 0.4940\n",
      "Epoch 8/30\n",
      "186/186 [==============================] - 6s 31ms/step - loss: 2.2039 - accuracy: 0.3945 - val_loss: 1.7257 - val_accuracy: 0.5181\n",
      "Epoch 9/30\n",
      "186/186 [==============================] - 6s 32ms/step - loss: 2.1138 - accuracy: 0.4175 - val_loss: 1.6298 - val_accuracy: 0.5595\n",
      "Epoch 10/30\n",
      "186/186 [==============================] - 6s 31ms/step - loss: 1.8189 - accuracy: 0.4641 - val_loss: 1.5597 - val_accuracy: 0.5494\n",
      "Epoch 11/30\n",
      "186/186 [==============================] - 6s 32ms/step - loss: 1.8286 - accuracy: 0.4913 - val_loss: 1.5050 - val_accuracy: 0.5605\n",
      "Epoch 12/30\n",
      "186/186 [==============================] - 6s 32ms/step - loss: 1.6681 - accuracy: 0.5036 - val_loss: 1.5825 - val_accuracy: 0.5585\n",
      "Epoch 13/30\n",
      "186/186 [==============================] - 6s 32ms/step - loss: 1.6340 - accuracy: 0.5383 - val_loss: 1.3798 - val_accuracy: 0.6058\n",
      "Epoch 14/30\n",
      "186/186 [==============================] - 6s 31ms/step - loss: 1.5731 - accuracy: 0.5322 - val_loss: 1.4287 - val_accuracy: 0.6079\n",
      "Epoch 15/30\n",
      "186/186 [==============================] - 6s 31ms/step - loss: 1.4888 - accuracy: 0.5632 - val_loss: 1.3554 - val_accuracy: 0.6159\n",
      "Epoch 16/30\n",
      "186/186 [==============================] - 6s 31ms/step - loss: 1.3121 - accuracy: 0.6081 - val_loss: 1.3198 - val_accuracy: 0.6310\n",
      "Epoch 17/30\n",
      "186/186 [==============================] - 6s 32ms/step - loss: 1.3567 - accuracy: 0.5938 - val_loss: 1.2622 - val_accuracy: 0.6593\n",
      "Epoch 18/30\n",
      "186/186 [==============================] - 6s 32ms/step - loss: 1.2109 - accuracy: 0.6083 - val_loss: 1.2833 - val_accuracy: 0.6573\n",
      "Epoch 19/30\n",
      "186/186 [==============================] - 6s 32ms/step - loss: 1.2499 - accuracy: 0.6204 - val_loss: 1.2045 - val_accuracy: 0.6603\n",
      "Epoch 20/30\n",
      "186/186 [==============================] - 6s 32ms/step - loss: 1.2011 - accuracy: 0.6397 - val_loss: 1.2441 - val_accuracy: 0.6653\n",
      "Epoch 21/30\n",
      "186/186 [==============================] - 6s 32ms/step - loss: 1.0743 - accuracy: 0.6623 - val_loss: 1.3898 - val_accuracy: 0.6401\n",
      "Epoch 22/30\n",
      "186/186 [==============================] - 6s 32ms/step - loss: 1.1541 - accuracy: 0.6523 - val_loss: 1.2687 - val_accuracy: 0.6673\n",
      "Epoch 23/30\n",
      "186/186 [==============================] - 6s 33ms/step - loss: 1.0612 - accuracy: 0.6685 - val_loss: 1.2099 - val_accuracy: 0.6855\n",
      "Epoch 24/30\n",
      "186/186 [==============================] - 6s 32ms/step - loss: 1.0460 - accuracy: 0.6842 - val_loss: 1.2258 - val_accuracy: 0.6825\n",
      "Epoch 25/30\n",
      "186/186 [==============================] - 6s 33ms/step - loss: 1.0283 - accuracy: 0.6789 - val_loss: 1.2037 - val_accuracy: 0.6875\n",
      "Epoch 26/30\n",
      "186/186 [==============================] - 6s 32ms/step - loss: 0.9949 - accuracy: 0.6929 - val_loss: 1.1613 - val_accuracy: 0.6865\n",
      "Epoch 27/30\n",
      "186/186 [==============================] - 6s 32ms/step - loss: 0.8743 - accuracy: 0.7472 - val_loss: 1.2732 - val_accuracy: 0.6774\n",
      "Epoch 28/30\n",
      "186/186 [==============================] - 6s 32ms/step - loss: 0.7817 - accuracy: 0.7330 - val_loss: 1.2272 - val_accuracy: 0.6996\n",
      "Epoch 29/30\n",
      "186/186 [==============================] - 6s 32ms/step - loss: 0.8350 - accuracy: 0.7338 - val_loss: 1.2620 - val_accuracy: 0.6885\n",
      "Epoch 30/30\n",
      "186/186 [==============================] - 6s 32ms/step - loss: 0.9322 - accuracy: 0.7067 - val_loss: 1.1751 - val_accuracy: 0.7056\n"
     ]
    }
   ],
   "source": [
    "epochs = 30\n",
    "history = model2.fit(\n",
    "  train_ds,\n",
    "  validation_data=val_ds,\n",
    "  epochs=epochs\n",
    ")"
   ]
  },
  {
   "cell_type": "markdown",
   "id": "novel-proportion",
   "metadata": {},
   "source": [
    "### Training with 0.2 Validation split."
   ]
  },
  {
   "cell_type": "code",
   "execution_count": 219,
   "id": "younger-accuracy",
   "metadata": {},
   "outputs": [
    {
     "name": "stdout",
     "output_type": "stream",
     "text": [
      "Epoch 1/50\n",
      "248/248 [==============================] - 9s 32ms/step - loss: 4.1414 - accuracy: 0.0139 - val_loss: 4.1251 - val_accuracy: 0.0222\n",
      "Epoch 2/50\n",
      "248/248 [==============================] - 7s 30ms/step - loss: 4.0372 - accuracy: 0.0555 - val_loss: 3.6924 - val_accuracy: 0.0766\n",
      "Epoch 3/50\n",
      "248/248 [==============================] - 8s 31ms/step - loss: 3.6718 - accuracy: 0.0982 - val_loss: 3.1109 - val_accuracy: 0.1653\n",
      "Epoch 4/50\n",
      "248/248 [==============================] - 8s 31ms/step - loss: 3.2156 - accuracy: 0.1497 - val_loss: 2.5301 - val_accuracy: 0.3004\n",
      "Epoch 5/50\n",
      "248/248 [==============================] - 8s 30ms/step - loss: 2.7681 - accuracy: 0.2344 - val_loss: 2.1445 - val_accuracy: 0.4093\n",
      "Epoch 6/50\n",
      "248/248 [==============================] - 8s 30ms/step - loss: 2.3970 - accuracy: 0.3652 - val_loss: 1.9742 - val_accuracy: 0.4677\n",
      "Epoch 7/50\n",
      "248/248 [==============================] - 8s 30ms/step - loss: 2.0928 - accuracy: 0.4172 - val_loss: 1.6125 - val_accuracy: 0.5685\n",
      "Epoch 8/50\n",
      "248/248 [==============================] - 8s 30ms/step - loss: 1.8767 - accuracy: 0.4658 - val_loss: 1.5289 - val_accuracy: 0.5706\n",
      "Epoch 9/50\n",
      "248/248 [==============================] - 8s 30ms/step - loss: 1.6987 - accuracy: 0.5400 - val_loss: 1.4703 - val_accuracy: 0.5706\n",
      "Epoch 10/50\n",
      "248/248 [==============================] - 8s 30ms/step - loss: 1.5591 - accuracy: 0.5487 - val_loss: 1.3665 - val_accuracy: 0.6190\n",
      "Epoch 11/50\n",
      "248/248 [==============================] - 8s 30ms/step - loss: 1.3803 - accuracy: 0.5878 - val_loss: 1.3325 - val_accuracy: 0.6190\n",
      "Epoch 12/50\n",
      "248/248 [==============================] - 8s 30ms/step - loss: 1.3466 - accuracy: 0.5965 - val_loss: 1.3087 - val_accuracy: 0.6230\n",
      "Epoch 13/50\n",
      "248/248 [==============================] - 8s 31ms/step - loss: 1.2414 - accuracy: 0.6143 - val_loss: 1.2612 - val_accuracy: 0.6371\n",
      "Epoch 14/50\n",
      "248/248 [==============================] - 8s 31ms/step - loss: 1.1368 - accuracy: 0.6528 - val_loss: 1.2449 - val_accuracy: 0.6532\n",
      "Epoch 15/50\n",
      "248/248 [==============================] - 8s 31ms/step - loss: 1.1199 - accuracy: 0.6527 - val_loss: 1.2356 - val_accuracy: 0.6653\n",
      "Epoch 16/50\n",
      "248/248 [==============================] - 8s 31ms/step - loss: 1.1119 - accuracy: 0.6721 - val_loss: 1.1505 - val_accuracy: 0.6976\n",
      "Epoch 17/50\n",
      "248/248 [==============================] - 8s 31ms/step - loss: 1.0206 - accuracy: 0.6810 - val_loss: 1.1472 - val_accuracy: 0.6734\n",
      "Epoch 18/50\n",
      "248/248 [==============================] - 8s 31ms/step - loss: 0.9425 - accuracy: 0.7056 - val_loss: 1.1655 - val_accuracy: 0.6976\n",
      "Epoch 19/50\n",
      "248/248 [==============================] - 8s 32ms/step - loss: 0.8742 - accuracy: 0.7237 - val_loss: 1.1285 - val_accuracy: 0.7016\n",
      "Epoch 20/50\n",
      "248/248 [==============================] - 8s 32ms/step - loss: 0.8632 - accuracy: 0.7349 - val_loss: 1.0832 - val_accuracy: 0.7016\n",
      "Epoch 21/50\n",
      "248/248 [==============================] - 8s 32ms/step - loss: 0.8539 - accuracy: 0.7139 - val_loss: 1.1526 - val_accuracy: 0.7036\n",
      "Epoch 22/50\n",
      "248/248 [==============================] - 8s 32ms/step - loss: 0.8709 - accuracy: 0.7103 - val_loss: 1.2326 - val_accuracy: 0.6855\n",
      "Epoch 23/50\n",
      "248/248 [==============================] - 8s 32ms/step - loss: 0.8405 - accuracy: 0.7310 - val_loss: 1.1903 - val_accuracy: 0.6875\n",
      "Epoch 24/50\n",
      "248/248 [==============================] - 8s 30ms/step - loss: 0.7536 - accuracy: 0.7556 - val_loss: 1.1780 - val_accuracy: 0.7117\n",
      "Epoch 25/50\n",
      "248/248 [==============================] - 8s 30ms/step - loss: 0.7260 - accuracy: 0.7415 - val_loss: 1.3203 - val_accuracy: 0.6815\n",
      "Epoch 26/50\n",
      "248/248 [==============================] - 8s 30ms/step - loss: 0.7474 - accuracy: 0.7759 - val_loss: 1.1379 - val_accuracy: 0.7097\n",
      "Epoch 27/50\n",
      "248/248 [==============================] - 8s 30ms/step - loss: 0.7115 - accuracy: 0.7727 - val_loss: 1.2422 - val_accuracy: 0.7077\n",
      "Epoch 28/50\n",
      "248/248 [==============================] - 8s 30ms/step - loss: 0.6254 - accuracy: 0.7850 - val_loss: 1.3264 - val_accuracy: 0.6976\n",
      "Epoch 29/50\n",
      "248/248 [==============================] - 8s 30ms/step - loss: 0.6810 - accuracy: 0.7761 - val_loss: 1.2075 - val_accuracy: 0.7117\n",
      "Epoch 30/50\n",
      "248/248 [==============================] - 8s 30ms/step - loss: 0.6232 - accuracy: 0.7867 - val_loss: 1.1065 - val_accuracy: 0.7278\n",
      "Epoch 31/50\n",
      "248/248 [==============================] - 8s 30ms/step - loss: 0.6294 - accuracy: 0.7883 - val_loss: 1.2328 - val_accuracy: 0.7218\n",
      "Epoch 32/50\n",
      "248/248 [==============================] - 8s 31ms/step - loss: 0.6373 - accuracy: 0.7860 - val_loss: 1.2361 - val_accuracy: 0.7137\n",
      "Epoch 33/50\n",
      "248/248 [==============================] - 8s 31ms/step - loss: 0.6267 - accuracy: 0.7948 - val_loss: 1.1954 - val_accuracy: 0.7298\n",
      "Epoch 34/50\n",
      "248/248 [==============================] - 8s 30ms/step - loss: 0.5504 - accuracy: 0.8158 - val_loss: 1.1080 - val_accuracy: 0.7480\n",
      "Epoch 35/50\n",
      "248/248 [==============================] - 8s 32ms/step - loss: 0.5798 - accuracy: 0.7959 - val_loss: 1.2908 - val_accuracy: 0.7157\n",
      "Epoch 36/50\n",
      "248/248 [==============================] - 8s 32ms/step - loss: 0.6156 - accuracy: 0.7994 - val_loss: 1.2382 - val_accuracy: 0.7218\n",
      "Epoch 37/50\n",
      "248/248 [==============================] - 8s 31ms/step - loss: 0.5511 - accuracy: 0.8136 - val_loss: 1.2119 - val_accuracy: 0.7440\n",
      "Epoch 38/50\n",
      "248/248 [==============================] - 8s 31ms/step - loss: 0.5433 - accuracy: 0.8216 - val_loss: 1.2191 - val_accuracy: 0.7258\n",
      "Epoch 39/50\n",
      "248/248 [==============================] - 8s 31ms/step - loss: 0.5451 - accuracy: 0.8101 - val_loss: 1.2191 - val_accuracy: 0.7339\n",
      "Epoch 40/50\n",
      "248/248 [==============================] - 8s 31ms/step - loss: 0.5108 - accuracy: 0.8221 - val_loss: 1.1862 - val_accuracy: 0.7278\n",
      "Epoch 41/50\n",
      "248/248 [==============================] - 8s 31ms/step - loss: 0.5846 - accuracy: 0.7941 - val_loss: 1.2495 - val_accuracy: 0.7298\n",
      "Epoch 42/50\n",
      "248/248 [==============================] - 8s 31ms/step - loss: 0.5008 - accuracy: 0.8258 - val_loss: 1.2522 - val_accuracy: 0.7298\n",
      "Epoch 43/50\n",
      "248/248 [==============================] - 8s 31ms/step - loss: 0.4864 - accuracy: 0.8277 - val_loss: 1.2124 - val_accuracy: 0.7258\n",
      "Epoch 44/50\n",
      "248/248 [==============================] - 8s 31ms/step - loss: 0.4852 - accuracy: 0.8361 - val_loss: 1.2127 - val_accuracy: 0.7238\n",
      "Epoch 45/50\n",
      "248/248 [==============================] - 8s 31ms/step - loss: 0.5580 - accuracy: 0.8049 - val_loss: 1.1801 - val_accuracy: 0.7198\n",
      "Epoch 46/50\n",
      "248/248 [==============================] - 8s 32ms/step - loss: 0.4932 - accuracy: 0.8525 - val_loss: 1.2527 - val_accuracy: 0.7157\n",
      "Epoch 47/50\n",
      "248/248 [==============================] - 8s 33ms/step - loss: 0.4911 - accuracy: 0.8218 - val_loss: 1.2264 - val_accuracy: 0.7238\n",
      "Epoch 48/50\n",
      "248/248 [==============================] - 8s 33ms/step - loss: 0.4953 - accuracy: 0.8206 - val_loss: 1.2221 - val_accuracy: 0.7419\n",
      "Epoch 49/50\n",
      "248/248 [==============================] - 8s 31ms/step - loss: 0.4561 - accuracy: 0.8388 - val_loss: 1.2465 - val_accuracy: 0.7540\n",
      "Epoch 50/50\n",
      "248/248 [==============================] - 8s 32ms/step - loss: 0.4664 - accuracy: 0.8295 - val_loss: 1.2991 - val_accuracy: 0.7238\n"
     ]
    }
   ],
   "source": [
    "epochs = 50\n",
    "history = model2.fit(\n",
    "  train_ds,\n",
    "  validation_data=val_ds,\n",
    "  epochs=epochs\n",
    ")"
   ]
  },
  {
   "cell_type": "code",
   "execution_count": 221,
   "id": "exact-robinson",
   "metadata": {},
   "outputs": [
    {
     "data": {
      "image/png": "[encoded data removed]",
      "text/plain": [
       "<Figure size 720x360 with 2 Axes>"
      ]
     },
     "metadata": {
      "needs_background": "light"
     },
     "output_type": "display_data"
    }
   ],
   "source": [
    "acc = history.history['accuracy']\n",
    "val_acc = history.history['val_accuracy']\n",
    "\n",
    "loss = history.history['loss']\n",
    "val_loss = history.history['val_loss']\n",
    "\n",
    "epochs_range = range(len(acc))\n",
    "\n",
    "plt.figure(figsize=(10, 5))\n",
    "plt.subplot(1, 2, 1)\n",
    "plt.plot(epochs_range, acc, label='Training Accuracy')\n",
    "plt.plot(epochs_range, val_acc, label='Validation Accuracy')\n",
    "plt.legend(loc='lower right')\n",
    "plt.title('Training and Validation Accuracy')\n",
    "\n",
    "plt.subplot(1, 2, 2)\n",
    "plt.plot(epochs_range, loss, label='Training Loss')\n",
    "plt.plot(epochs_range, val_loss, label='Validation Loss')\n",
    "plt.legend(loc='upper right')\n",
    "plt.title('Training and Validation Loss')\n",
    "plt.show()"
   ]
  },
  {
   "cell_type": "markdown",
   "id": "conventional-myanmar",
   "metadata": {},
   "source": [
    "### The final training and validation accuracy were 82% and 72% respectively. \n",
    "#### Let's save this model."
   ]
  },
  {
   "cell_type": "code",
   "execution_count": 222,
   "id": "liberal-refund",
   "metadata": {},
   "outputs": [
    {
     "name": "stdout",
     "output_type": "stream",
     "text": [
      "INFO:tensorflow:Assets written to: main_model/assets\n"
     ]
    }
   ],
   "source": [
    "model2.save(\"main_model\")"
   ]
  },
  {
   "cell_type": "code",
   "execution_count": 228,
   "id": "democratic-draft",
   "metadata": {},
   "outputs": [],
   "source": [
    "model = keras.models.load_model(\"main_model\")"
   ]
  },
  {
   "cell_type": "code",
   "execution_count": 229,
   "id": "automated-lithuania",
   "metadata": {},
   "outputs": [
    {
     "name": "stdout",
     "output_type": "stream",
     "text": [
      "Model: \"sequential_28\"\n",
      "_________________________________________________________________\n",
      "Layer (type)                 Output Shape              Param #   \n",
      "=================================================================\n",
      "random_zoom_4 (RandomZoom)   (None, 100, 75, 3)        0         \n",
      "_________________________________________________________________\n",
      "random_contrast_2 (RandomCon (None, 100, 75, 3)        0         \n",
      "_________________________________________________________________\n",
      "random_rotation_2 (RandomRot (None, 100, 75, 3)        0         \n",
      "_________________________________________________________________\n",
      "random_zoom_5 (RandomZoom)   (None, 100, 75, 3)        0         \n",
      "_________________________________________________________________\n",
      "rescaling_5 (Rescaling)      (None, 100, 75, 3)        0         \n",
      "_________________________________________________________________\n",
      "conv2d_107 (Conv2D)          (None, 98, 73, 32)        896       \n",
      "_________________________________________________________________\n",
      "max_pooling2d_107 (MaxPoolin (None, 49, 36, 32)        0         \n",
      "_________________________________________________________________\n",
      "conv2d_108 (Conv2D)          (None, 47, 34, 32)        9248      \n",
      "_________________________________________________________________\n",
      "max_pooling2d_108 (MaxPoolin (None, 23, 17, 32)        0         \n",
      "_________________________________________________________________\n",
      "conv2d_109 (Conv2D)          (None, 21, 15, 64)        18496     \n",
      "_________________________________________________________________\n",
      "max_pooling2d_109 (MaxPoolin (None, 10, 7, 64)         0         \n",
      "_________________________________________________________________\n",
      "flatten_28 (Flatten)         (None, 4480)              0         \n",
      "_________________________________________________________________\n",
      "dense_56 (Dense)             (None, 128)               573568    \n",
      "_________________________________________________________________\n",
      "dropout_25 (Dropout)         (None, 128)               0         \n",
      "_________________________________________________________________\n",
      "dense_57 (Dense)             (None, 62)                7998      \n",
      "=================================================================\n",
      "Total params: 610,206\n",
      "Trainable params: 610,206\n",
      "Non-trainable params: 0\n",
      "_________________________________________________________________\n"
     ]
    }
   ],
   "source": [
    "model.summary()"
   ]
  },
  {
   "cell_type": "markdown",
   "id": "stretch-russell",
   "metadata": {},
   "source": [
    "#### Let's try testing the model on two images."
   ]
  },
  {
   "cell_type": "code",
   "execution_count": 243,
   "id": "above-daily",
   "metadata": {},
   "outputs": [
    {
     "name": "stdout",
     "output_type": "stream",
     "text": [
      "This image most likely belongs to N with a 4.19 percent confidence.\n"
     ]
    },
    {
     "data": {
      "image/png": "[encoded data removed]",
      "text/plain": [
       "<Figure size 432x288 with 1 Axes>"
      ]
     },
     "metadata": {
      "needs_background": "light"
     },
     "output_type": "display_data"
    }
   ],
   "source": [
    "img = keras.preprocessing.image.load_img(\n",
    "    \"img024-003.png\", target_size=(img_height, img_width)\n",
    ")\n",
    "img_array = keras.preprocessing.image.img_to_array(img)\n",
    "img_array = tf.expand_dims(img_array, 0) # Create a batch\n",
    "\n",
    "predictions = model.predict(img_array)\n",
    "score = tf.nn.softmax(predictions[0])\n",
    "\n",
    "print(\n",
    "    \"This image most likely belongs to {} with a {:.2f} percent confidence.\"\n",
    "    .format(class_names[np.argmax(score)], 100 * np.max(score))\n",
    ")"
   ]
  },
  {
   "cell_type": "code",
   "execution_count": 246,
   "id": "powered-method",
   "metadata": {},
   "outputs": [
    {
     "name": "stdout",
     "output_type": "stream",
     "text": [
      "This image most likely belongs to 0 with a 3.84 percent confidence.\n"
     ]
    },
    {
     "data": {
      "image/png": "[encoded data removed]",
      "text/plain": [
       "<Figure size 432x288 with 1 Axes>"
      ]
     },
     "metadata": {
      "needs_background": "light"
     },
     "output_type": "display_data"
    }
   ],
   "source": [
    "img = keras.preprocessing.image.load_img(\n",
    "    \"images/img001-008.png\", target_size=(img_height, img_width)\n",
    ")\n",
    "img_array = keras.preprocessing.image.img_to_array(img)\n",
    "img_array = tf.expand_dims(img_array, 0) # Create a batch\n",
    "plt.imshow(img)\n",
    "predictions = model.predict(img_array)\n",
    "score = tf.nn.softmax(predictions[0])\n",
    "\n",
    "print(\n",
    "    \"This image most likely belongs to {} with a {:.2f} percent confidence.\"\n",
    "    .format(class_names[np.argmax(score)], 100 * np.max(score))\n",
    ")"
   ]
  }
 ],
 "metadata": {
  "kernelspec": {
   "display_name": "Python [conda env:tf]",
   "language": "python",
   "name": "conda-env-tf-py"
  },
  "language_info": {
   "codemirror_mode": {
    "name": "ipython",
    "version": 3
   },
   "file_extension": ".py",
   "mimetype": "text/x-python",
   "name": "python",
   "nbconvert_exporter": "python",
   "pygments_lexer": "ipython3",
   "version": "3.8.3"
  }
 },
 "nbformat": 4,
 "nbformat_minor": 5
}
