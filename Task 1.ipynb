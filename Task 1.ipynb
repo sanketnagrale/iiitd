{
 "cells": [
  {
   "cell_type": "markdown",
   "id": "noted-malta",
   "metadata": {},
   "source": [
    "# Task 1"
   ]
  },
  {
   "cell_type": "markdown",
   "id": "alternate-controversy",
   "metadata": {},
   "source": [
    "Use this dataset (https://www.dropbox.com/s/pan6mutc5xj5kj0/trainPart1.zip) to train a CNN. Use no other data source or pretrained networks, and explain your design choices during preprocessing, model building and training. Also, cite the sources you used to borrow techniques. A test set will be provided later to judge the performance of your classifier. Please save your model checkpoints."
   ]
  },
  {
   "cell_type": "markdown",
   "id": "western-geography",
   "metadata": {},
   "source": [
    "Let's start by importing all the important libraries."
   ]
  },
  {
   "cell_type": "code",
   "execution_count": 1,
   "id": "flexible-cream",
   "metadata": {},
   "outputs": [],
   "source": [
    "import tensorflow as tf\n",
    "import os\n",
    "import pathlib\n",
    "import random\n",
    "from shutil import move\n",
    "import zipfile\n",
    "from tensorflow.keras.preprocessing.image import ImageDataGenerator\n",
    "import numpy as np\n",
    "import matplotlib.pyplot as plt\n",
    "from tensorflow import keras"
   ]
  },
  {
   "cell_type": "markdown",
   "id": "dirty-effort",
   "metadata": {},
   "source": [
    "## Unzip the trainPart1.zip file"
   ]
  },
  {
   "cell_type": "code",
   "execution_count": 2,
   "id": "sixth-johnson",
   "metadata": {},
   "outputs": [],
   "source": [
    "with zipfile.ZipFile(\"trainPart1.zip\", 'r') as zip_ref:\n",
    "    zip_ref.extractall(\"trainPart1/\")"
   ]
  },
  {
   "cell_type": "markdown",
   "id": "determined-commerce",
   "metadata": {},
   "source": [
    "#### Changing the directories to labels.\n",
    "All the directories in this dataset are named from sample 001 to sample 062. We change the names of the directories to the label of the images that they contain."
   ]
  },
  {
   "cell_type": "code",
   "execution_count": 3,
   "id": "pressing-sharp",
   "metadata": {},
   "outputs": [],
   "source": [
    "root = \"trainPart1/train\""
   ]
  },
  {
   "cell_type": "code",
   "execution_count": 4,
   "id": "double-information",
   "metadata": {},
   "outputs": [],
   "source": [
    "s = os.listdir(root)\n",
    "s.sort()"
   ]
  },
  {
   "cell_type": "markdown",
   "id": "athletic-surfing",
   "metadata": {},
   "source": [
    "#### The code below changes the names of the directories sample 001 to sample 010 to 0 to 9."
   ]
  },
  {
   "cell_type": "code",
   "execution_count": 5,
   "id": "demonstrated-silicon",
   "metadata": {},
   "outputs": [],
   "source": [
    "i = 0\n",
    "for file in s:\n",
    "    source = os.path.join(root, file)\n",
    "    dest = os.path.join(root, str(i))\n",
    "    os.rename(source, dest)\n",
    "    i = i+1\n",
    "    if (i>9):\n",
    "        break"
   ]
  },
  {
   "cell_type": "markdown",
   "id": "residential-statement",
   "metadata": {},
   "source": [
    "#### The directories after renaming first 10."
   ]
  },
  {
   "cell_type": "code",
   "execution_count": 6,
   "id": "editorial-minister",
   "metadata": {},
   "outputs": [
    {
     "name": "stdout",
     "output_type": "stream",
     "text": [
      "['0', '1', '2', '3', '4', '5', '6', '7', '8', '9', 'Sample011', 'Sample012', 'Sample013', 'Sample014', 'Sample015', 'Sample016', 'Sample017', 'Sample018', 'Sample019', 'Sample020', 'Sample021', 'Sample022', 'Sample023', 'Sample024', 'Sample025', 'Sample026', 'Sample027', 'Sample028', 'Sample029', 'Sample030', 'Sample031', 'Sample032', 'Sample033', 'Sample034', 'Sample035', 'Sample036', 'Sample037', 'Sample038', 'Sample039', 'Sample040', 'Sample041', 'Sample042', 'Sample043', 'Sample044', 'Sample045', 'Sample046', 'Sample047', 'Sample048', 'Sample049', 'Sample050', 'Sample051', 'Sample052', 'Sample053', 'Sample054', 'Sample055', 'Sample056', 'Sample057', 'Sample058', 'Sample059', 'Sample060', 'Sample061', 'Sample062']\n"
     ]
    }
   ],
   "source": [
    "s = os.listdir(root)\n",
    "s.sort()\n",
    "print(s)"
   ]
  },
  {
   "cell_type": "markdown",
   "id": "tired-politics",
   "metadata": {},
   "source": [
    "#### Now changing the names of the directories of Capital Letters."
   ]
  },
  {
   "cell_type": "code",
   "execution_count": 7,
   "id": "durable-malaysia",
   "metadata": {},
   "outputs": [],
   "source": [
    "s = os.listdir(root)\n",
    "s.sort()\n",
    "for i in range(26):\n",
    "    j = 'A'\n",
    "    j = chr(ord(j)+i)\n",
    "    source = os.path.join(root, s[i+10])\n",
    "    destination = os.path.join(root, j)\n",
    "    os.rename(source, destination)\n",
    "    j = chr(ord(j)+1)"
   ]
  },
  {
   "cell_type": "code",
   "execution_count": 8,
   "id": "fitting-youth",
   "metadata": {},
   "outputs": [
    {
     "name": "stdout",
     "output_type": "stream",
     "text": [
      "['0', '1', '2', '3', '4', '5', '6', '7', '8', '9', 'A', 'B', 'C', 'D', 'E', 'F', 'G', 'H', 'I', 'J', 'K', 'L', 'M', 'N', 'O', 'P', 'Q', 'R', 'S', 'Sample037', 'Sample038', 'Sample039', 'Sample040', 'Sample041', 'Sample042', 'Sample043', 'Sample044', 'Sample045', 'Sample046', 'Sample047', 'Sample048', 'Sample049', 'Sample050', 'Sample051', 'Sample052', 'Sample053', 'Sample054', 'Sample055', 'Sample056', 'Sample057', 'Sample058', 'Sample059', 'Sample060', 'Sample061', 'Sample062', 'T', 'U', 'V', 'W', 'X', 'Y', 'Z']\n"
     ]
    }
   ],
   "source": [
    "s = os.listdir(root)\n",
    "s.sort()\n",
    "print(s)"
   ]
  },
  {
   "cell_type": "markdown",
   "id": "attractive-filename",
   "metadata": {},
   "source": [
    "#### Now changing the names of the directories of Capital Letters."
   ]
  },
  {
   "cell_type": "code",
   "execution_count": 9,
   "id": "declared-underground",
   "metadata": {},
   "outputs": [],
   "source": [
    "for i in range(26):\n",
    "    j = 'a'\n",
    "    j = chr(ord(j)+i)\n",
    "    source = os.path.join(root, s[i+29])\n",
    "    destination = os.path.join(root, j)\n",
    "    os.rename(source, destination)\n",
    "    j = chr(ord(j)+1)"
   ]
  },
  {
   "cell_type": "markdown",
   "id": "south-subcommittee",
   "metadata": {},
   "source": [
    "### Final names of the directories:"
   ]
  },
  {
   "cell_type": "code",
   "execution_count": 10,
   "id": "economic-talent",
   "metadata": {},
   "outputs": [
    {
     "name": "stdout",
     "output_type": "stream",
     "text": [
      "['0', '1', '2', '3', '4', '5', '6', '7', '8', '9', 'A', 'B', 'C', 'D', 'E', 'F', 'G', 'H', 'I', 'J', 'K', 'L', 'M', 'N', 'O', 'P', 'Q', 'R', 'S', 'T', 'U', 'V', 'W', 'X', 'Y', 'Z', 'a', 'b', 'c', 'd', 'e', 'f', 'g', 'h', 'i', 'j', 'k', 'l', 'm', 'n', 'o', 'p', 'q', 'r', 's', 't', 'u', 'v', 'w', 'x', 'y', 'z']\n"
     ]
    }
   ],
   "source": [
    "s = os.listdir(root)\n",
    "s.sort()\n",
    "print(s)"
   ]
  },
  {
   "cell_type": "code",
   "execution_count": 11,
   "id": "blank-revolution",
   "metadata": {},
   "outputs": [
    {
     "name": "stdout",
     "output_type": "stream",
     "text": [
      "Total Images present are: 2480\n"
     ]
    }
   ],
   "source": [
    "data_dir = pathlib.Path('trainPart1')\n",
    "img_count = len(list(data_dir.glob('*/*/*.png')))\n",
    "print(\"Total Images present are:\", img_count)"
   ]
  },
  {
   "cell_type": "markdown",
   "id": "random-fellow",
   "metadata": {},
   "source": [
    "#### Getting the names of the classes."
   ]
  },
  {
   "cell_type": "code",
   "execution_count": 12,
   "id": "equivalent-excitement",
   "metadata": {
    "scrolled": true
   },
   "outputs": [
    {
     "name": "stdout",
     "output_type": "stream",
     "text": [
      "['0' '1' '2' '3' '4' '5' '6' '7' '8' '9' 'A' 'B' 'C' 'D' 'E' 'F' 'G' 'H'\n",
      " 'I' 'J' 'K' 'L' 'M' 'N' 'O' 'P' 'Q' 'R' 'S' 'T' 'U' 'V' 'W' 'X' 'Y' 'Z'\n",
      " 'a' 'b' 'c' 'd' 'e' 'f' 'g' 'h' 'i' 'j' 'k' 'l' 'm' 'n' 'o' 'p' 'q' 'r'\n",
      " 's' 't' 'u' 'v' 'w' 'x' 'y' 'z']\n"
     ]
    }
   ],
   "source": [
    "class_names = np.array(sorted([item.name for item in data_dir.glob('train/*')]))\n",
    "print(class_names)"
   ]
  },
  {
   "cell_type": "code",
   "execution_count": 13,
   "id": "innocent-therapist",
   "metadata": {},
   "outputs": [],
   "source": [
    "batch_size = 8\n",
    "img_height = 100\n",
    "img_width = 75"
   ]
  },
  {
   "cell_type": "markdown",
   "id": "computational-manual",
   "metadata": {},
   "source": [
    "## Creating Train and Test Directories"
   ]
  },
  {
   "cell_type": "code",
   "execution_count": 14,
   "id": "educational-pastor",
   "metadata": {},
   "outputs": [
    {
     "name": "stdout",
     "output_type": "stream",
     "text": [
      "Found 2480 files belonging to 62 classes.\n",
      "Using 1984 files for training.\n",
      "Found 2480 files belonging to 62 classes.\n",
      "Using 496 files for validation.\n"
     ]
    }
   ],
   "source": [
    "data_dir = pathlib.Path('trainPart1/train')\n",
    "train_ds = tf.keras.preprocessing.image_dataset_from_directory(\n",
    "  data_dir,\n",
    "  validation_split=0.2,\n",
    "  subset=\"training\",\n",
    "  seed=123,\n",
    "  image_size=(img_height, img_width),\n",
    "  batch_size=batch_size)\n",
    "\n",
    "val_ds = tf.keras.preprocessing.image_dataset_from_directory(\n",
    "  data_dir,\n",
    "  validation_split=0.2,\n",
    "  subset=\"validation\",\n",
    "  seed=123,\n",
    "  image_size=(img_height, img_width),\n",
    "  batch_size=batch_size)"
   ]
  },
  {
   "cell_type": "code",
   "execution_count": 15,
   "id": "global-lightweight",
   "metadata": {},
   "outputs": [
    {
     "data": {
      "image/png": "[encoded data removed]",
      "text/plain": [
       "<Figure size 720x720 with 8 Axes>"
      ]
     },
     "metadata": {
      "needs_background": "light"
     },
     "output_type": "display_data"
    }
   ],
   "source": [
    "import matplotlib.pyplot as plt\n",
    "\n",
    "plt.figure(figsize=(10, 10))\n",
    "for images, labels in train_ds.take(1):\n",
    "    for i in range(8):\n",
    "        ax = plt.subplot(3, 3, i + 1)\n",
    "        plt.imshow(images[i].numpy().astype(\"uint8\"))\n",
    "        plt.title(class_names[labels[i]])\n",
    "        plt.axis(\"off\")"
   ]
  },
  {
   "cell_type": "code",
   "execution_count": 16,
   "id": "blocked-calculator",
   "metadata": {
    "scrolled": true
   },
   "outputs": [
    {
     "name": "stdout",
     "output_type": "stream",
     "text": [
      "Epoch 1/15\n",
      "248/248 [==============================] - 6s 24ms/step - loss: 4.0288 - accuracy: 0.0407 - val_loss: 3.3134 - val_accuracy: 0.1512\n",
      "Epoch 2/15\n",
      "248/248 [==============================] - 6s 25ms/step - loss: 2.7812 - accuracy: 0.2854 - val_loss: 2.3150 - val_accuracy: 0.4254\n",
      "Epoch 3/15\n",
      "248/248 [==============================] - 7s 28ms/step - loss: 1.4851 - accuracy: 0.6075 - val_loss: 2.1484 - val_accuracy: 0.5060\n",
      "Epoch 4/15\n",
      "248/248 [==============================] - 7s 28ms/step - loss: 0.8226 - accuracy: 0.7724 - val_loss: 2.1751 - val_accuracy: 0.5464\n",
      "Epoch 5/15\n",
      "248/248 [==============================] - 7s 27ms/step - loss: 0.4076 - accuracy: 0.8786 - val_loss: 2.3613 - val_accuracy: 0.5685\n",
      "Epoch 6/15\n",
      "248/248 [==============================] - 7s 27ms/step - loss: 0.2921 - accuracy: 0.9111 - val_loss: 2.5535 - val_accuracy: 0.5262\n",
      "Epoch 7/15\n",
      "248/248 [==============================] - 7s 26ms/step - loss: 0.2208 - accuracy: 0.9236 - val_loss: 2.6896 - val_accuracy: 0.5504\n",
      "Epoch 8/15\n",
      "248/248 [==============================] - 7s 26ms/step - loss: 0.1549 - accuracy: 0.9540 - val_loss: 2.8251 - val_accuracy: 0.5766\n",
      "Epoch 9/15\n",
      "248/248 [==============================] - 7s 28ms/step - loss: 0.1236 - accuracy: 0.9594 - val_loss: 2.5474 - val_accuracy: 0.5766\n",
      "Epoch 10/15\n",
      "248/248 [==============================] - 6s 26ms/step - loss: 0.0645 - accuracy: 0.9812 - val_loss: 2.7870 - val_accuracy: 0.5907\n",
      "Epoch 11/15\n",
      "248/248 [==============================] - 6s 26ms/step - loss: 0.0425 - accuracy: 0.9864 - val_loss: 2.9744 - val_accuracy: 0.5565\n",
      "Epoch 12/15\n",
      "248/248 [==============================] - 6s 25ms/step - loss: 0.0620 - accuracy: 0.9794 - val_loss: 2.9635 - val_accuracy: 0.5625\n",
      "Epoch 13/15\n",
      "248/248 [==============================] - 6s 25ms/step - loss: 0.0571 - accuracy: 0.9863 - val_loss: 2.9751 - val_accuracy: 0.5524\n",
      "Epoch 14/15\n",
      "248/248 [==============================] - 6s 26ms/step - loss: 0.0906 - accuracy: 0.9748 - val_loss: 3.1126 - val_accuracy: 0.5585\n",
      "Epoch 15/15\n",
      "248/248 [==============================] - 6s 26ms/step - loss: 0.0510 - accuracy: 0.9864 - val_loss: 3.3394 - val_accuracy: 0.5423\n"
     ]
    }
   ],
   "source": [
    "num_classes = 62\n",
    "import tensorflow.keras.layers as layers\n",
    "model = tf.keras.Sequential([\n",
    "  layers.experimental.preprocessing.Rescaling(1./255),\n",
    "  layers.Conv2D(32, 3, activation='relu'),\n",
    "  layers.MaxPooling2D(),\n",
    "  layers.Conv2D(32, 3, activation='relu'),\n",
    "  layers.MaxPooling2D(),\n",
    "  layers.Conv2D(32, 3, activation='relu'),\n",
    "  layers.MaxPooling2D(),\n",
    "  layers.Flatten(),\n",
    "  layers.Dense(128, activation='relu'),\n",
    "  layers.Dense(num_classes)\n",
    "])\n",
    "\n",
    "model.compile(\n",
    "  optimizer='adam',\n",
    "  loss=tf.losses.SparseCategoricalCrossentropy(from_logits=True),\n",
    "  metrics=['accuracy'])\n",
    "\n",
    "history = model.fit(\n",
    "  train_ds,\n",
    "  validation_data=val_ds,\n",
    "  epochs=15\n",
    ")"
   ]
  },
  {
   "cell_type": "code",
   "execution_count": 17,
   "id": "bizarre-princess",
   "metadata": {
    "scrolled": true
   },
   "outputs": [
    {
     "data": {
      "image/png": "[encoded data removed]",
      "text/plain": [
       "<Figure size 720x360 with 2 Axes>"
      ]
     },
     "metadata": {
      "needs_background": "light"
     },
     "output_type": "display_data"
    }
   ],
   "source": [
    "acc = history.history['accuracy']\n",
    "val_acc = history.history['val_accuracy']\n",
    "\n",
    "loss = history.history['loss']\n",
    "val_loss = history.history['val_loss']\n",
    "\n",
    "epochs_range = range(len(acc))\n",
    "\n",
    "plt.figure(figsize=(10, 5))\n",
    "plt.subplot(1, 2, 1)\n",
    "plt.plot(epochs_range, acc, label='Training Accuracy')\n",
    "plt.plot(epochs_range, val_acc, label='Validation Accuracy')\n",
    "plt.legend(loc='lower right')\n",
    "plt.title('Training and Validation Accuracy')\n",
    "\n",
    "plt.subplot(1, 2, 2)\n",
    "plt.plot(epochs_range, loss, label='Training Loss')\n",
    "plt.plot(epochs_range, val_loss, label='Validation Loss')\n",
    "plt.legend(loc='upper right')\n",
    "plt.title('Training and Validation Loss')\n",
    "plt.show()"
   ]
  },
  {
   "cell_type": "markdown",
   "id": "discrete-acceptance",
   "metadata": {},
   "source": [
    "the large gap between training and validation accuracy tells that the model is overfitting. Training accuracy is 98% while validation accuracy is just 61%.\n",
    "\n",
    "To correct overfitting, we add some Augmentation and Dropout Regualarization."
   ]
  },
  {
   "cell_type": "markdown",
   "id": "experienced-steal",
   "metadata": {},
   "source": [
    "# Adding Dropout and Augmentation"
   ]
  },
  {
   "cell_type": "code",
   "execution_count": 18,
   "id": "extended-reynolds",
   "metadata": {},
   "outputs": [],
   "source": [
    "model2 = tf.keras.Sequential([\n",
    "  layers.experimental.preprocessing.RandomZoom(0.2),\n",
    "  layers.experimental.preprocessing.RandomContrast(0.2), \n",
    "  layers.experimental.preprocessing.RandomRotation(0.1),\n",
    "  layers.experimental.preprocessing.RandomZoom(0.1),\n",
    "  layers.experimental.preprocessing.Rescaling(1./255,input_shape=(img_height, img_width, 3)),\n",
    "  layers.Conv2D(32, 3, activation='relu'),\n",
    "  layers.MaxPooling2D(2, 2),\n",
    "  layers.Conv2D(32, 3, activation='relu'),\n",
    "  layers.MaxPooling2D(2, 2),\n",
    "  layers.Conv2D(64, 3, activation='relu'),\n",
    "  layers.MaxPooling2D(2, 2),\n",
    "  layers.Flatten(),\n",
    "  layers.Dense(128, activation='relu'),\n",
    "  layers.Dropout(0.4),\n",
    "  layers.Dense(num_classes, activation='softmax')\n",
    "])\n"
   ]
  },
  {
   "cell_type": "code",
   "execution_count": 19,
   "id": "brief-bikini",
   "metadata": {},
   "outputs": [],
   "source": [
    "model2.compile(optimizer='adam',\n",
    "              loss=tf.keras.losses.SparseCategoricalCrossentropy(),\n",
    "              metrics=['accuracy'])\n"
   ]
  },
  {
   "cell_type": "markdown",
   "id": "fifty-optimization",
   "metadata": {},
   "source": [
    "#### The training part below was done using 0.4 as validation split. For the original 0.2 validation split refer to the training part below this code."
   ]
  },
  {
   "cell_type": "code",
   "execution_count": 240,
   "id": "purple-casting",
   "metadata": {},
   "outputs": [
    {
     "name": "stdout",
     "output_type": "stream",
     "text": [
      "Epoch 1/30\n",
      "186/186 [==============================] - 7s 32ms/step - loss: 4.1338 - accuracy: 0.0231 - val_loss: 4.1191 - val_accuracy: 0.0272\n",
      "Epoch 2/30\n",
      "186/186 [==============================] - 6s 31ms/step - loss: 4.0968 - accuracy: 0.0361 - val_loss: 3.8764 - val_accuracy: 0.0585\n",
      "Epoch 3/30\n",
      "186/186 [==============================] - 6s 31ms/step - loss: 3.8273 - accuracy: 0.0806 - val_loss: 3.1266 - val_accuracy: 0.1915\n",
      "Epoch 4/30\n",
      "186/186 [==============================] - 6s 31ms/step - loss: 3.3288 - accuracy: 0.1479 - val_loss: 2.6400 - val_accuracy: 0.2873\n",
      "Epoch 5/30\n",
      "186/186 [==============================] - 6s 31ms/step - loss: 2.8750 - accuracy: 0.2432 - val_loss: 2.3591 - val_accuracy: 0.3589\n",
      "Epoch 6/30\n",
      "186/186 [==============================] - 6s 31ms/step - loss: 2.6738 - accuracy: 0.2750 - val_loss: 2.0533 - val_accuracy: 0.4173\n",
      "Epoch 7/30\n",
      "186/186 [==============================] - 6s 31ms/step - loss: 2.4058 - accuracy: 0.3381 - val_loss: 1.8763 - val_accuracy: 0.4940\n",
      "Epoch 8/30\n",
      "186/186 [==============================] - 6s 31ms/step - loss: 2.2039 - accuracy: 0.3945 - val_loss: 1.7257 - val_accuracy: 0.5181\n",
      "Epoch 9/30\n",
      "186/186 [==============================] - 6s 32ms/step - loss: 2.1138 - accuracy: 0.4175 - val_loss: 1.6298 - val_accuracy: 0.5595\n",
      "Epoch 10/30\n",
      "186/186 [==============================] - 6s 31ms/step - loss: 1.8189 - accuracy: 0.4641 - val_loss: 1.5597 - val_accuracy: 0.5494\n",
      "Epoch 11/30\n",
      "186/186 [==============================] - 6s 32ms/step - loss: 1.8286 - accuracy: 0.4913 - val_loss: 1.5050 - val_accuracy: 0.5605\n",
      "Epoch 12/30\n",
      "186/186 [==============================] - 6s 32ms/step - loss: 1.6681 - accuracy: 0.5036 - val_loss: 1.5825 - val_accuracy: 0.5585\n",
      "Epoch 13/30\n",
      "186/186 [==============================] - 6s 32ms/step - loss: 1.6340 - accuracy: 0.5383 - val_loss: 1.3798 - val_accuracy: 0.6058\n",
      "Epoch 14/30\n",
      "186/186 [==============================] - 6s 31ms/step - loss: 1.5731 - accuracy: 0.5322 - val_loss: 1.4287 - val_accuracy: 0.6079\n",
      "Epoch 15/30\n",
      "186/186 [==============================] - 6s 31ms/step - loss: 1.4888 - accuracy: 0.5632 - val_loss: 1.3554 - val_accuracy: 0.6159\n",
      "Epoch 16/30\n",
      "186/186 [==============================] - 6s 31ms/step - loss: 1.3121 - accuracy: 0.6081 - val_loss: 1.3198 - val_accuracy: 0.6310\n",
      "Epoch 17/30\n",
      "186/186 [==============================] - 6s 32ms/step - loss: 1.3567 - accuracy: 0.5938 - val_loss: 1.2622 - val_accuracy: 0.6593\n",
      "Epoch 18/30\n",
      "186/186 [==============================] - 6s 32ms/step - loss: 1.2109 - accuracy: 0.6083 - val_loss: 1.2833 - val_accuracy: 0.6573\n",
      "Epoch 19/30\n",
      "186/186 [==============================] - 6s 32ms/step - loss: 1.2499 - accuracy: 0.6204 - val_loss: 1.2045 - val_accuracy: 0.6603\n",
      "Epoch 20/30\n",
      "186/186 [==============================] - 6s 32ms/step - loss: 1.2011 - accuracy: 0.6397 - val_loss: 1.2441 - val_accuracy: 0.6653\n",
      "Epoch 21/30\n",
      "186/186 [==============================] - 6s 32ms/step - loss: 1.0743 - accuracy: 0.6623 - val_loss: 1.3898 - val_accuracy: 0.6401\n",
      "Epoch 22/30\n",
      "186/186 [==============================] - 6s 32ms/step - loss: 1.1541 - accuracy: 0.6523 - val_loss: 1.2687 - val_accuracy: 0.6673\n",
      "Epoch 23/30\n",
      "186/186 [==============================] - 6s 33ms/step - loss: 1.0612 - accuracy: 0.6685 - val_loss: 1.2099 - val_accuracy: 0.6855\n",
      "Epoch 24/30\n",
      "186/186 [==============================] - 6s 32ms/step - loss: 1.0460 - accuracy: 0.6842 - val_loss: 1.2258 - val_accuracy: 0.6825\n",
      "Epoch 25/30\n",
      "186/186 [==============================] - 6s 33ms/step - loss: 1.0283 - accuracy: 0.6789 - val_loss: 1.2037 - val_accuracy: 0.6875\n",
      "Epoch 26/30\n",
      "186/186 [==============================] - 6s 32ms/step - loss: 0.9949 - accuracy: 0.6929 - val_loss: 1.1613 - val_accuracy: 0.6865\n",
      "Epoch 27/30\n",
      "186/186 [==============================] - 6s 32ms/step - loss: 0.8743 - accuracy: 0.7472 - val_loss: 1.2732 - val_accuracy: 0.6774\n",
      "Epoch 28/30\n",
      "186/186 [==============================] - 6s 32ms/step - loss: 0.7817 - accuracy: 0.7330 - val_loss: 1.2272 - val_accuracy: 0.6996\n",
      "Epoch 29/30\n",
      "186/186 [==============================] - 6s 32ms/step - loss: 0.8350 - accuracy: 0.7338 - val_loss: 1.2620 - val_accuracy: 0.6885\n",
      "Epoch 30/30\n",
      "186/186 [==============================] - 6s 32ms/step - loss: 0.9322 - accuracy: 0.7067 - val_loss: 1.1751 - val_accuracy: 0.7056\n"
     ]
    }
   ],
   "source": [
    "epochs = 30\n",
    "history = model2.fit(\n",
    "  train_ds,\n",
    "  validation_data=val_ds,\n",
    "  epochs=epochs\n",
    ")"
   ]
  },
  {
   "cell_type": "markdown",
   "id": "novel-proportion",
   "metadata": {},
   "source": [
    "### Training with 0.2 Validation split."
   ]
  },
  {
   "cell_type": "code",
   "execution_count": 20,
   "id": "younger-accuracy",
   "metadata": {},
   "outputs": [
    {
     "name": "stdout",
     "output_type": "stream",
     "text": [
      "Epoch 1/30\n",
      "248/248 [==============================] - 9s 32ms/step - loss: 4.1323 - accuracy: 0.0180 - val_loss: 4.0370 - val_accuracy: 0.0323\n",
      "Epoch 2/30\n",
      "248/248 [==============================] - 7s 29ms/step - loss: 3.9187 - accuracy: 0.0660 - val_loss: 3.0412 - val_accuracy: 0.1935\n",
      "Epoch 3/30\n",
      "248/248 [==============================] - 8s 33ms/step - loss: 3.2195 - accuracy: 0.1665 - val_loss: 2.4335 - val_accuracy: 0.3327\n",
      "Epoch 4/30\n",
      "248/248 [==============================] - 8s 34ms/step - loss: 2.7221 - accuracy: 0.2694 - val_loss: 2.1864 - val_accuracy: 0.4012\n",
      "Epoch 5/30\n",
      "248/248 [==============================] - 8s 34ms/step - loss: 2.4254 - accuracy: 0.3388 - val_loss: 1.9891 - val_accuracy: 0.4435\n",
      "Epoch 6/30\n",
      "248/248 [==============================] - 9s 34ms/step - loss: 2.1225 - accuracy: 0.3989 - val_loss: 1.8413 - val_accuracy: 0.4819\n",
      "Epoch 7/30\n",
      "248/248 [==============================] - 9s 35ms/step - loss: 1.9149 - accuracy: 0.4380 - val_loss: 1.6153 - val_accuracy: 0.5524\n",
      "Epoch 8/30\n",
      "248/248 [==============================] - 8s 33ms/step - loss: 1.6900 - accuracy: 0.5332 - val_loss: 1.5761 - val_accuracy: 0.5806\n",
      "Epoch 9/30\n",
      "248/248 [==============================] - 8s 32ms/step - loss: 1.6854 - accuracy: 0.5245 - val_loss: 1.5191 - val_accuracy: 0.5726\n",
      "Epoch 10/30\n",
      "248/248 [==============================] - 9s 35ms/step - loss: 1.5074 - accuracy: 0.5575 - val_loss: 1.4468 - val_accuracy: 0.6149\n",
      "Epoch 11/30\n",
      "248/248 [==============================] - 9s 35ms/step - loss: 1.4147 - accuracy: 0.5781 - val_loss: 1.3329 - val_accuracy: 0.6230\n",
      "Epoch 12/30\n",
      "248/248 [==============================] - 9s 35ms/step - loss: 1.3306 - accuracy: 0.5922 - val_loss: 1.2550 - val_accuracy: 0.6472\n",
      "Epoch 13/30\n",
      "248/248 [==============================] - 9s 35ms/step - loss: 1.2281 - accuracy: 0.6277 - val_loss: 1.2513 - val_accuracy: 0.6734\n",
      "Epoch 14/30\n",
      "248/248 [==============================] - 8s 33ms/step - loss: 1.1989 - accuracy: 0.6415 - val_loss: 1.3824 - val_accuracy: 0.6492\n",
      "Epoch 15/30\n",
      "248/248 [==============================] - 9s 35ms/step - loss: 1.1476 - accuracy: 0.6497 - val_loss: 1.2867 - val_accuracy: 0.6835\n",
      "Epoch 16/30\n",
      "248/248 [==============================] - 9s 35ms/step - loss: 1.0415 - accuracy: 0.6762 - val_loss: 1.2666 - val_accuracy: 0.6653\n",
      "Epoch 17/30\n",
      "248/248 [==============================] - 8s 32ms/step - loss: 1.0659 - accuracy: 0.6365 - val_loss: 1.1987 - val_accuracy: 0.6673\n",
      "Epoch 18/30\n",
      "248/248 [==============================] - 9s 34ms/step - loss: 0.9978 - accuracy: 0.6793 - val_loss: 1.2063 - val_accuracy: 0.6754\n",
      "Epoch 19/30\n",
      "248/248 [==============================] - 9s 35ms/step - loss: 0.8912 - accuracy: 0.7305 - val_loss: 1.2792 - val_accuracy: 0.6754\n",
      "Epoch 20/30\n",
      "248/248 [==============================] - 9s 35ms/step - loss: 0.9774 - accuracy: 0.6896 - val_loss: 1.1303 - val_accuracy: 0.6976\n",
      "Epoch 21/30\n",
      "248/248 [==============================] - 8s 34ms/step - loss: 0.9219 - accuracy: 0.7136 - val_loss: 1.2677 - val_accuracy: 0.6694\n",
      "Epoch 22/30\n",
      "248/248 [==============================] - 8s 30ms/step - loss: 0.8159 - accuracy: 0.7548 - val_loss: 1.2005 - val_accuracy: 0.6915\n",
      "Epoch 23/30\n",
      "248/248 [==============================] - 9s 36ms/step - loss: 0.7881 - accuracy: 0.7446 - val_loss: 1.1636 - val_accuracy: 0.7238\n",
      "Epoch 24/30\n",
      "248/248 [==============================] - 9s 35ms/step - loss: 0.7353 - accuracy: 0.7480 - val_loss: 1.0834 - val_accuracy: 0.7238\n",
      "Epoch 25/30\n",
      "248/248 [==============================] - 8s 32ms/step - loss: 0.7270 - accuracy: 0.7788 - val_loss: 1.1916 - val_accuracy: 0.7016\n",
      "Epoch 26/30\n",
      "248/248 [==============================] - 8s 33ms/step - loss: 0.7635 - accuracy: 0.7444 - val_loss: 1.0991 - val_accuracy: 0.7339\n",
      "Epoch 27/30\n",
      "248/248 [==============================] - 8s 32ms/step - loss: 0.7409 - accuracy: 0.7501 - val_loss: 1.1742 - val_accuracy: 0.7298\n",
      "Epoch 28/30\n",
      "248/248 [==============================] - 8s 31ms/step - loss: 0.6592 - accuracy: 0.7755 - val_loss: 1.2584 - val_accuracy: 0.7077\n",
      "Epoch 29/30\n",
      "248/248 [==============================] - 8s 31ms/step - loss: 0.6887 - accuracy: 0.7755 - val_loss: 1.0929 - val_accuracy: 0.7419\n",
      "Epoch 30/30\n",
      "248/248 [==============================] - 8s 32ms/step - loss: 0.6236 - accuracy: 0.8010 - val_loss: 1.1304 - val_accuracy: 0.7359\n"
     ]
    }
   ],
   "source": [
    "epochs = 30\n",
    "history = model2.fit(\n",
    "  train_ds,\n",
    "  validation_data=val_ds,\n",
    "  epochs=epochs\n",
    ")"
   ]
  },
  {
   "cell_type": "code",
   "execution_count": 21,
   "id": "exact-robinson",
   "metadata": {},
   "outputs": [
    {
     "data": {
      "image/png": "[encoded data removed]",
      "text/plain": [
       "<Figure size 720x360 with 2 Axes>"
      ]
     },
     "metadata": {
      "needs_background": "light"
     },
     "output_type": "display_data"
    }
   ],
   "source": [
    "acc = history.history['accuracy']\n",
    "val_acc = history.history['val_accuracy']\n",
    "\n",
    "loss = history.history['loss']\n",
    "val_loss = history.history['val_loss']\n",
    "\n",
    "epochs_range = range(len(acc))\n",
    "\n",
    "plt.figure(figsize=(10, 5))\n",
    "plt.subplot(1, 2, 1)\n",
    "plt.plot(epochs_range, acc, label='Training Accuracy')\n",
    "plt.plot(epochs_range, val_acc, label='Validation Accuracy')\n",
    "plt.legend(loc='lower right')\n",
    "plt.title('Training and Validation Accuracy')\n",
    "\n",
    "plt.subplot(1, 2, 2)\n",
    "plt.plot(epochs_range, loss, label='Training Loss')\n",
    "plt.plot(epochs_range, val_loss, label='Validation Loss')\n",
    "plt.legend(loc='upper right')\n",
    "plt.title('Training and Validation Loss')\n",
    "plt.show()"
   ]
  },
  {
   "cell_type": "markdown",
   "id": "conventional-myanmar",
   "metadata": {},
   "source": [
    "### The final training and validation accuracy were 82% and 72% respectively. \n",
    "#### Let's save this model."
   ]
  },
  {
   "cell_type": "code",
   "execution_count": 22,
   "id": "liberal-refund",
   "metadata": {},
   "outputs": [
    {
     "name": "stdout",
     "output_type": "stream",
     "text": [
      "INFO:tensorflow:Assets written to: main_model/assets\n"
     ]
    }
   ],
   "source": [
    "model2.save(\"main_model\")"
   ]
  },
  {
   "cell_type": "code",
   "execution_count": 23,
   "id": "democratic-draft",
   "metadata": {},
   "outputs": [],
   "source": [
    "model = keras.models.load_model(\"main_model\")"
   ]
  },
  {
   "cell_type": "code",
   "execution_count": 24,
   "id": "automated-lithuania",
   "metadata": {},
   "outputs": [
    {
     "name": "stdout",
     "output_type": "stream",
     "text": [
      "Model: \"sequential_1\"\n",
      "_________________________________________________________________\n",
      "Layer (type)                 Output Shape              Param #   \n",
      "=================================================================\n",
      "random_zoom (RandomZoom)     (None, 100, 75, 3)        0         \n",
      "_________________________________________________________________\n",
      "random_contrast (RandomContr (None, 100, 75, 3)        0         \n",
      "_________________________________________________________________\n",
      "random_rotation (RandomRotat (None, 100, 75, 3)        0         \n",
      "_________________________________________________________________\n",
      "random_zoom_1 (RandomZoom)   (None, 100, 75, 3)        0         \n",
      "_________________________________________________________________\n",
      "rescaling_1 (Rescaling)      (None, 100, 75, 3)        0         \n",
      "_________________________________________________________________\n",
      "conv2d_3 (Conv2D)            (None, 98, 73, 32)        896       \n",
      "_________________________________________________________________\n",
      "max_pooling2d_3 (MaxPooling2 (None, 49, 36, 32)        0         \n",
      "_________________________________________________________________\n",
      "conv2d_4 (Conv2D)            (None, 47, 34, 32)        9248      \n",
      "_________________________________________________________________\n",
      "max_pooling2d_4 (MaxPooling2 (None, 23, 17, 32)        0         \n",
      "_________________________________________________________________\n",
      "conv2d_5 (Conv2D)            (None, 21, 15, 64)        18496     \n",
      "_________________________________________________________________\n",
      "max_pooling2d_5 (MaxPooling2 (None, 10, 7, 64)         0         \n",
      "_________________________________________________________________\n",
      "flatten_1 (Flatten)          (None, 4480)              0         \n",
      "_________________________________________________________________\n",
      "dense_2 (Dense)              (None, 128)               573568    \n",
      "_________________________________________________________________\n",
      "dropout (Dropout)            (None, 128)               0         \n",
      "_________________________________________________________________\n",
      "dense_3 (Dense)              (None, 62)                7998      \n",
      "=================================================================\n",
      "Total params: 610,206\n",
      "Trainable params: 610,206\n",
      "Non-trainable params: 0\n",
      "_________________________________________________________________\n"
     ]
    }
   ],
   "source": [
    "model.summary()"
   ]
  },
  {
   "cell_type": "markdown",
   "id": "stretch-russell",
   "metadata": {},
   "source": [
    "#### Let's try testing the model on two images."
   ]
  },
  {
   "cell_type": "code",
   "execution_count": 26,
   "id": "above-daily",
   "metadata": {},
   "outputs": [
    {
     "name": "stdout",
     "output_type": "stream",
     "text": [
      "This image most likely belongs to N with a 4.05 percent confidence.\n"
     ]
    },
    {
     "data": {
      "image/png": "[encoded data removed]",
      "text/plain": [
       "<Figure size 432x288 with 1 Axes>"
      ]
     },
     "metadata": {
      "needs_background": "light"
     },
     "output_type": "display_data"
    }
   ],
   "source": [
    "img = keras.preprocessing.image.load_img(\n",
    "    \"images/img024-003.png\", target_size=(img_height, img_width)\n",
    ")\n",
    "img_array = keras.preprocessing.image.img_to_array(img)\n",
    "img_array = tf.expand_dims(img_array, 0) # Create a batch\n",
    "\n",
    "predictions = model.predict(img_array)\n",
    "score = tf.nn.softmax(predictions[0])\n",
    "plt.imshow(img)\n",
    "print(\n",
    "    \"This image most likely belongs to {} with a {:.2f} percent confidence.\"\n",
    "    .format(class_names[np.argmax(score)], 100 * np.max(score))\n",
    ")"
   ]
  },
  {
   "cell_type": "code",
   "execution_count": 27,
   "id": "powered-method",
   "metadata": {},
   "outputs": [
    {
     "name": "stdout",
     "output_type": "stream",
     "text": [
      "This image most likely belongs to 0 with a 2.81 percent confidence.\n"
     ]
    },
    {
     "data": {
      "image/png": "[encoded data removed]",
      "text/plain": [
       "<Figure size 432x288 with 1 Axes>"
      ]
     },
     "metadata": {
      "needs_background": "light"
     },
     "output_type": "display_data"
    }
   ],
   "source": [
    "img = keras.preprocessing.image.load_img(\n",
    "    \"images/img001-008.png\", target_size=(img_height, img_width)\n",
    ")\n",
    "img_array = keras.preprocessing.image.img_to_array(img)\n",
    "img_array = tf.expand_dims(img_array, 0) # Create a batch\n",
    "plt.imshow(img)\n",
    "predictions = model.predict(img_array)\n",
    "score = tf.nn.softmax(predictions[0])\n",
    "\n",
    "print(\n",
    "    \"This image most likely belongs to {} with a {:.2f} percent confidence.\"\n",
    "    .format(class_names[np.argmax(score)], 100 * np.max(score))\n",
    ")"
   ]
  },
  {
   "cell_type": "code",
   "execution_count": null,
   "id": "timely-ethnic",
   "metadata": {},
   "outputs": [],
   "source": []
  }
 ],
 "metadata": {
  "kernelspec": {
   "display_name": "iiitd",
   "language": "python",
   "name": "iiitd"
  },
  "language_info": {
   "codemirror_mode": {
    "name": "ipython",
    "version": 3
   },
   "file_extension": ".py",
   "mimetype": "text/x-python",
   "name": "python",
   "nbconvert_exporter": "python",
   "pygments_lexer": "ipython3",
   "version": "3.7.6"
  }
 },
 "nbformat": 4,
 "nbformat_minor": 5
}
